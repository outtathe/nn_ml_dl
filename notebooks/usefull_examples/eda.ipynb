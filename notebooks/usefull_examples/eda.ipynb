{
  "nbformat": 4,
  "nbformat_minor": 0,
  "metadata": {
    "colab": {
      "provenance": []
    },
    "kernelspec": {
      "name": "python3",
      "display_name": "Python 3"
    },
    "language_info": {
      "name": "python"
    }
  },
  "cells": [
    {
      "cell_type": "markdown",
      "source": [
        "## Базовый ML-пайплайн на примере Kaggle Titanic"
      ],
      "metadata": {
        "id": "YQr0J0woJVaV"
      }
    },
    {
      "cell_type": "code",
      "execution_count": 19,
      "metadata": {
        "id": "WgF_3uJoEdoC"
      },
      "outputs": [],
      "source": [
        "import pandas as pd"
      ]
    },
    {
      "cell_type": "markdown",
      "source": [
        "Читаем данные"
      ],
      "metadata": {
        "id": "IUWj5VdcJf2S"
      }
    },
    {
      "cell_type": "code",
      "source": [
        "train = pd.read_csv('/content/train.csv')\n",
        "test  = pd.read_csv('/content/test.csv')"
      ],
      "metadata": {
        "id": "P9lf4QYlI7M_"
      },
      "execution_count": 24,
      "outputs": []
    },
    {
      "cell_type": "code",
      "source": [
        "train.head()"
      ],
      "metadata": {
        "colab": {
          "base_uri": "https://localhost:8080/",
          "height": 206
        },
        "id": "MDQkAqjIRd8G",
        "outputId": "0a5a6a31-98de-4ad5-f1d4-e9c92ddec098"
      },
      "execution_count": 25,
      "outputs": [
        {
          "output_type": "execute_result",
          "data": {
            "text/plain": [
              "   PassengerId  Survived  Pclass  \\\n",
              "0            1         0       3   \n",
              "1            2         1       1   \n",
              "2            3         1       3   \n",
              "3            4         1       1   \n",
              "4            5         0       3   \n",
              "\n",
              "                                                Name     Sex   Age  SibSp  \\\n",
              "0                            Braund, Mr. Owen Harris    male  22.0      1   \n",
              "1  Cumings, Mrs. John Bradley (Florence Briggs Th...  female  38.0      1   \n",
              "2                             Heikkinen, Miss. Laina  female  26.0      0   \n",
              "3       Futrelle, Mrs. Jacques Heath (Lily May Peel)  female  35.0      1   \n",
              "4                           Allen, Mr. William Henry    male  35.0      0   \n",
              "\n",
              "   Parch            Ticket     Fare Cabin Embarked  \n",
              "0      0         A/5 21171   7.2500   NaN        S  \n",
              "1      0          PC 17599  71.2833   C85        C  \n",
              "2      0  STON/O2. 3101282   7.9250   NaN        S  \n",
              "3      0            113803  53.1000  C123        S  \n",
              "4      0            373450   8.0500   NaN        S  "
            ],
            "text/html": [
              "\n",
              "  <div id=\"df-e79ad3ff-2dba-4aff-8aac-277d799f6759\" class=\"colab-df-container\">\n",
              "    <div>\n",
              "<style scoped>\n",
              "    .dataframe tbody tr th:only-of-type {\n",
              "        vertical-align: middle;\n",
              "    }\n",
              "\n",
              "    .dataframe tbody tr th {\n",
              "        vertical-align: top;\n",
              "    }\n",
              "\n",
              "    .dataframe thead th {\n",
              "        text-align: right;\n",
              "    }\n",
              "</style>\n",
              "<table border=\"1\" class=\"dataframe\">\n",
              "  <thead>\n",
              "    <tr style=\"text-align: right;\">\n",
              "      <th></th>\n",
              "      <th>PassengerId</th>\n",
              "      <th>Survived</th>\n",
              "      <th>Pclass</th>\n",
              "      <th>Name</th>\n",
              "      <th>Sex</th>\n",
              "      <th>Age</th>\n",
              "      <th>SibSp</th>\n",
              "      <th>Parch</th>\n",
              "      <th>Ticket</th>\n",
              "      <th>Fare</th>\n",
              "      <th>Cabin</th>\n",
              "      <th>Embarked</th>\n",
              "    </tr>\n",
              "  </thead>\n",
              "  <tbody>\n",
              "    <tr>\n",
              "      <th>0</th>\n",
              "      <td>1</td>\n",
              "      <td>0</td>\n",
              "      <td>3</td>\n",
              "      <td>Braund, Mr. Owen Harris</td>\n",
              "      <td>male</td>\n",
              "      <td>22.0</td>\n",
              "      <td>1</td>\n",
              "      <td>0</td>\n",
              "      <td>A/5 21171</td>\n",
              "      <td>7.2500</td>\n",
              "      <td>NaN</td>\n",
              "      <td>S</td>\n",
              "    </tr>\n",
              "    <tr>\n",
              "      <th>1</th>\n",
              "      <td>2</td>\n",
              "      <td>1</td>\n",
              "      <td>1</td>\n",
              "      <td>Cumings, Mrs. John Bradley (Florence Briggs Th...</td>\n",
              "      <td>female</td>\n",
              "      <td>38.0</td>\n",
              "      <td>1</td>\n",
              "      <td>0</td>\n",
              "      <td>PC 17599</td>\n",
              "      <td>71.2833</td>\n",
              "      <td>C85</td>\n",
              "      <td>C</td>\n",
              "    </tr>\n",
              "    <tr>\n",
              "      <th>2</th>\n",
              "      <td>3</td>\n",
              "      <td>1</td>\n",
              "      <td>3</td>\n",
              "      <td>Heikkinen, Miss. Laina</td>\n",
              "      <td>female</td>\n",
              "      <td>26.0</td>\n",
              "      <td>0</td>\n",
              "      <td>0</td>\n",
              "      <td>STON/O2. 3101282</td>\n",
              "      <td>7.9250</td>\n",
              "      <td>NaN</td>\n",
              "      <td>S</td>\n",
              "    </tr>\n",
              "    <tr>\n",
              "      <th>3</th>\n",
              "      <td>4</td>\n",
              "      <td>1</td>\n",
              "      <td>1</td>\n",
              "      <td>Futrelle, Mrs. Jacques Heath (Lily May Peel)</td>\n",
              "      <td>female</td>\n",
              "      <td>35.0</td>\n",
              "      <td>1</td>\n",
              "      <td>0</td>\n",
              "      <td>113803</td>\n",
              "      <td>53.1000</td>\n",
              "      <td>C123</td>\n",
              "      <td>S</td>\n",
              "    </tr>\n",
              "    <tr>\n",
              "      <th>4</th>\n",
              "      <td>5</td>\n",
              "      <td>0</td>\n",
              "      <td>3</td>\n",
              "      <td>Allen, Mr. William Henry</td>\n",
              "      <td>male</td>\n",
              "      <td>35.0</td>\n",
              "      <td>0</td>\n",
              "      <td>0</td>\n",
              "      <td>373450</td>\n",
              "      <td>8.0500</td>\n",
              "      <td>NaN</td>\n",
              "      <td>S</td>\n",
              "    </tr>\n",
              "  </tbody>\n",
              "</table>\n",
              "</div>\n",
              "    <div class=\"colab-df-buttons\">\n",
              "\n",
              "  <div class=\"colab-df-container\">\n",
              "    <button class=\"colab-df-convert\" onclick=\"convertToInteractive('df-e79ad3ff-2dba-4aff-8aac-277d799f6759')\"\n",
              "            title=\"Convert this dataframe to an interactive table.\"\n",
              "            style=\"display:none;\">\n",
              "\n",
              "  <svg xmlns=\"http://www.w3.org/2000/svg\" height=\"24px\" viewBox=\"0 -960 960 960\">\n",
              "    <path d=\"M120-120v-720h720v720H120Zm60-500h600v-160H180v160Zm220 220h160v-160H400v160Zm0 220h160v-160H400v160ZM180-400h160v-160H180v160Zm440 0h160v-160H620v160ZM180-180h160v-160H180v160Zm440 0h160v-160H620v160Z\"/>\n",
              "  </svg>\n",
              "    </button>\n",
              "\n",
              "  <style>\n",
              "    .colab-df-container {\n",
              "      display:flex;\n",
              "      gap: 12px;\n",
              "    }\n",
              "\n",
              "    .colab-df-convert {\n",
              "      background-color: #E8F0FE;\n",
              "      border: none;\n",
              "      border-radius: 50%;\n",
              "      cursor: pointer;\n",
              "      display: none;\n",
              "      fill: #1967D2;\n",
              "      height: 32px;\n",
              "      padding: 0 0 0 0;\n",
              "      width: 32px;\n",
              "    }\n",
              "\n",
              "    .colab-df-convert:hover {\n",
              "      background-color: #E2EBFA;\n",
              "      box-shadow: 0px 1px 2px rgba(60, 64, 67, 0.3), 0px 1px 3px 1px rgba(60, 64, 67, 0.15);\n",
              "      fill: #174EA6;\n",
              "    }\n",
              "\n",
              "    .colab-df-buttons div {\n",
              "      margin-bottom: 4px;\n",
              "    }\n",
              "\n",
              "    [theme=dark] .colab-df-convert {\n",
              "      background-color: #3B4455;\n",
              "      fill: #D2E3FC;\n",
              "    }\n",
              "\n",
              "    [theme=dark] .colab-df-convert:hover {\n",
              "      background-color: #434B5C;\n",
              "      box-shadow: 0px 1px 3px 1px rgba(0, 0, 0, 0.15);\n",
              "      filter: drop-shadow(0px 1px 2px rgba(0, 0, 0, 0.3));\n",
              "      fill: #FFFFFF;\n",
              "    }\n",
              "  </style>\n",
              "\n",
              "    <script>\n",
              "      const buttonEl =\n",
              "        document.querySelector('#df-e79ad3ff-2dba-4aff-8aac-277d799f6759 button.colab-df-convert');\n",
              "      buttonEl.style.display =\n",
              "        google.colab.kernel.accessAllowed ? 'block' : 'none';\n",
              "\n",
              "      async function convertToInteractive(key) {\n",
              "        const element = document.querySelector('#df-e79ad3ff-2dba-4aff-8aac-277d799f6759');\n",
              "        const dataTable =\n",
              "          await google.colab.kernel.invokeFunction('convertToInteractive',\n",
              "                                                    [key], {});\n",
              "        if (!dataTable) return;\n",
              "\n",
              "        const docLinkHtml = 'Like what you see? Visit the ' +\n",
              "          '<a target=\"_blank\" href=https://colab.research.google.com/notebooks/data_table.ipynb>data table notebook</a>'\n",
              "          + ' to learn more about interactive tables.';\n",
              "        element.innerHTML = '';\n",
              "        dataTable['output_type'] = 'display_data';\n",
              "        await google.colab.output.renderOutput(dataTable, element);\n",
              "        const docLink = document.createElement('div');\n",
              "        docLink.innerHTML = docLinkHtml;\n",
              "        element.appendChild(docLink);\n",
              "      }\n",
              "    </script>\n",
              "  </div>\n",
              "\n",
              "\n",
              "    <div id=\"df-f2d68c9f-357b-445e-8502-aac119471c37\">\n",
              "      <button class=\"colab-df-quickchart\" onclick=\"quickchart('df-f2d68c9f-357b-445e-8502-aac119471c37')\"\n",
              "                title=\"Suggest charts\"\n",
              "                style=\"display:none;\">\n",
              "\n",
              "<svg xmlns=\"http://www.w3.org/2000/svg\" height=\"24px\"viewBox=\"0 0 24 24\"\n",
              "     width=\"24px\">\n",
              "    <g>\n",
              "        <path d=\"M19 3H5c-1.1 0-2 .9-2 2v14c0 1.1.9 2 2 2h14c1.1 0 2-.9 2-2V5c0-1.1-.9-2-2-2zM9 17H7v-7h2v7zm4 0h-2V7h2v10zm4 0h-2v-4h2v4z\"/>\n",
              "    </g>\n",
              "</svg>\n",
              "      </button>\n",
              "\n",
              "<style>\n",
              "  .colab-df-quickchart {\n",
              "      --bg-color: #E8F0FE;\n",
              "      --fill-color: #1967D2;\n",
              "      --hover-bg-color: #E2EBFA;\n",
              "      --hover-fill-color: #174EA6;\n",
              "      --disabled-fill-color: #AAA;\n",
              "      --disabled-bg-color: #DDD;\n",
              "  }\n",
              "\n",
              "  [theme=dark] .colab-df-quickchart {\n",
              "      --bg-color: #3B4455;\n",
              "      --fill-color: #D2E3FC;\n",
              "      --hover-bg-color: #434B5C;\n",
              "      --hover-fill-color: #FFFFFF;\n",
              "      --disabled-bg-color: #3B4455;\n",
              "      --disabled-fill-color: #666;\n",
              "  }\n",
              "\n",
              "  .colab-df-quickchart {\n",
              "    background-color: var(--bg-color);\n",
              "    border: none;\n",
              "    border-radius: 50%;\n",
              "    cursor: pointer;\n",
              "    display: none;\n",
              "    fill: var(--fill-color);\n",
              "    height: 32px;\n",
              "    padding: 0;\n",
              "    width: 32px;\n",
              "  }\n",
              "\n",
              "  .colab-df-quickchart:hover {\n",
              "    background-color: var(--hover-bg-color);\n",
              "    box-shadow: 0 1px 2px rgba(60, 64, 67, 0.3), 0 1px 3px 1px rgba(60, 64, 67, 0.15);\n",
              "    fill: var(--button-hover-fill-color);\n",
              "  }\n",
              "\n",
              "  .colab-df-quickchart-complete:disabled,\n",
              "  .colab-df-quickchart-complete:disabled:hover {\n",
              "    background-color: var(--disabled-bg-color);\n",
              "    fill: var(--disabled-fill-color);\n",
              "    box-shadow: none;\n",
              "  }\n",
              "\n",
              "  .colab-df-spinner {\n",
              "    border: 2px solid var(--fill-color);\n",
              "    border-color: transparent;\n",
              "    border-bottom-color: var(--fill-color);\n",
              "    animation:\n",
              "      spin 1s steps(1) infinite;\n",
              "  }\n",
              "\n",
              "  @keyframes spin {\n",
              "    0% {\n",
              "      border-color: transparent;\n",
              "      border-bottom-color: var(--fill-color);\n",
              "      border-left-color: var(--fill-color);\n",
              "    }\n",
              "    20% {\n",
              "      border-color: transparent;\n",
              "      border-left-color: var(--fill-color);\n",
              "      border-top-color: var(--fill-color);\n",
              "    }\n",
              "    30% {\n",
              "      border-color: transparent;\n",
              "      border-left-color: var(--fill-color);\n",
              "      border-top-color: var(--fill-color);\n",
              "      border-right-color: var(--fill-color);\n",
              "    }\n",
              "    40% {\n",
              "      border-color: transparent;\n",
              "      border-right-color: var(--fill-color);\n",
              "      border-top-color: var(--fill-color);\n",
              "    }\n",
              "    60% {\n",
              "      border-color: transparent;\n",
              "      border-right-color: var(--fill-color);\n",
              "    }\n",
              "    80% {\n",
              "      border-color: transparent;\n",
              "      border-right-color: var(--fill-color);\n",
              "      border-bottom-color: var(--fill-color);\n",
              "    }\n",
              "    90% {\n",
              "      border-color: transparent;\n",
              "      border-bottom-color: var(--fill-color);\n",
              "    }\n",
              "  }\n",
              "</style>\n",
              "\n",
              "      <script>\n",
              "        async function quickchart(key) {\n",
              "          const quickchartButtonEl =\n",
              "            document.querySelector('#' + key + ' button');\n",
              "          quickchartButtonEl.disabled = true;  // To prevent multiple clicks.\n",
              "          quickchartButtonEl.classList.add('colab-df-spinner');\n",
              "          try {\n",
              "            const charts = await google.colab.kernel.invokeFunction(\n",
              "                'suggestCharts', [key], {});\n",
              "          } catch (error) {\n",
              "            console.error('Error during call to suggestCharts:', error);\n",
              "          }\n",
              "          quickchartButtonEl.classList.remove('colab-df-spinner');\n",
              "          quickchartButtonEl.classList.add('colab-df-quickchart-complete');\n",
              "        }\n",
              "        (() => {\n",
              "          let quickchartButtonEl =\n",
              "            document.querySelector('#df-f2d68c9f-357b-445e-8502-aac119471c37 button');\n",
              "          quickchartButtonEl.style.display =\n",
              "            google.colab.kernel.accessAllowed ? 'block' : 'none';\n",
              "        })();\n",
              "      </script>\n",
              "    </div>\n",
              "    </div>\n",
              "  </div>\n"
            ],
            "application/vnd.google.colaboratory.intrinsic+json": {
              "type": "dataframe",
              "variable_name": "train",
              "summary": "{\n  \"name\": \"train\",\n  \"rows\": 891,\n  \"fields\": [\n    {\n      \"column\": \"PassengerId\",\n      \"properties\": {\n        \"dtype\": \"number\",\n        \"std\": 257,\n        \"min\": 1,\n        \"max\": 891,\n        \"num_unique_values\": 891,\n        \"samples\": [\n          710,\n          440,\n          841\n        ],\n        \"semantic_type\": \"\",\n        \"description\": \"\"\n      }\n    },\n    {\n      \"column\": \"Survived\",\n      \"properties\": {\n        \"dtype\": \"number\",\n        \"std\": 0,\n        \"min\": 0,\n        \"max\": 1,\n        \"num_unique_values\": 2,\n        \"samples\": [\n          1,\n          0\n        ],\n        \"semantic_type\": \"\",\n        \"description\": \"\"\n      }\n    },\n    {\n      \"column\": \"Pclass\",\n      \"properties\": {\n        \"dtype\": \"number\",\n        \"std\": 0,\n        \"min\": 1,\n        \"max\": 3,\n        \"num_unique_values\": 3,\n        \"samples\": [\n          3,\n          1\n        ],\n        \"semantic_type\": \"\",\n        \"description\": \"\"\n      }\n    },\n    {\n      \"column\": \"Name\",\n      \"properties\": {\n        \"dtype\": \"string\",\n        \"num_unique_values\": 891,\n        \"samples\": [\n          \"Moubarek, Master. Halim Gonios (\\\"William George\\\")\",\n          \"Kvillner, Mr. Johan Henrik Johannesson\"\n        ],\n        \"semantic_type\": \"\",\n        \"description\": \"\"\n      }\n    },\n    {\n      \"column\": \"Sex\",\n      \"properties\": {\n        \"dtype\": \"category\",\n        \"num_unique_values\": 2,\n        \"samples\": [\n          \"female\",\n          \"male\"\n        ],\n        \"semantic_type\": \"\",\n        \"description\": \"\"\n      }\n    },\n    {\n      \"column\": \"Age\",\n      \"properties\": {\n        \"dtype\": \"number\",\n        \"std\": 14.526497332334044,\n        \"min\": 0.42,\n        \"max\": 80.0,\n        \"num_unique_values\": 88,\n        \"samples\": [\n          0.75,\n          22.0\n        ],\n        \"semantic_type\": \"\",\n        \"description\": \"\"\n      }\n    },\n    {\n      \"column\": \"SibSp\",\n      \"properties\": {\n        \"dtype\": \"number\",\n        \"std\": 1,\n        \"min\": 0,\n        \"max\": 8,\n        \"num_unique_values\": 7,\n        \"samples\": [\n          1,\n          0\n        ],\n        \"semantic_type\": \"\",\n        \"description\": \"\"\n      }\n    },\n    {\n      \"column\": \"Parch\",\n      \"properties\": {\n        \"dtype\": \"number\",\n        \"std\": 0,\n        \"min\": 0,\n        \"max\": 6,\n        \"num_unique_values\": 7,\n        \"samples\": [\n          0,\n          1\n        ],\n        \"semantic_type\": \"\",\n        \"description\": \"\"\n      }\n    },\n    {\n      \"column\": \"Ticket\",\n      \"properties\": {\n        \"dtype\": \"string\",\n        \"num_unique_values\": 681,\n        \"samples\": [\n          \"11774\",\n          \"248740\"\n        ],\n        \"semantic_type\": \"\",\n        \"description\": \"\"\n      }\n    },\n    {\n      \"column\": \"Fare\",\n      \"properties\": {\n        \"dtype\": \"number\",\n        \"std\": 49.693428597180905,\n        \"min\": 0.0,\n        \"max\": 512.3292,\n        \"num_unique_values\": 248,\n        \"samples\": [\n          11.2417,\n          51.8625\n        ],\n        \"semantic_type\": \"\",\n        \"description\": \"\"\n      }\n    },\n    {\n      \"column\": \"Cabin\",\n      \"properties\": {\n        \"dtype\": \"category\",\n        \"num_unique_values\": 147,\n        \"samples\": [\n          \"D45\",\n          \"B49\"\n        ],\n        \"semantic_type\": \"\",\n        \"description\": \"\"\n      }\n    },\n    {\n      \"column\": \"Embarked\",\n      \"properties\": {\n        \"dtype\": \"category\",\n        \"num_unique_values\": 3,\n        \"samples\": [\n          \"S\",\n          \"C\"\n        ],\n        \"semantic_type\": \"\",\n        \"description\": \"\"\n      }\n    }\n  ]\n}"
            }
          },
          "metadata": {},
          "execution_count": 25
        }
      ]
    },
    {
      "cell_type": "markdown",
      "source": [
        "### Data Dictionary (описание признаков Titanic)\n",
        "\n",
        "| Переменная | Определение | Ключ / Значения |\n",
        "|-------------|--------------|------------------|\n",
        "| **Survived** | Факт выживания пассажира | 0 — не выжил, 1 — выжил |\n",
        "| **Pclass** | Класс билета (социально-экономический статус) | 1 — 1-й класс, 2 — 2-й, 3 — 3-й |\n",
        "| **Sex** | Пол пассажира | male / female |\n",
        "| **Age** | Возраст (в годах) | числовое значение |\n",
        "| **SibSp** | Количество братьев / сестёр / супругов на борту | целое число |\n",
        "| **Parch** | Количество родителей / детей на борту | целое число |\n",
        "| **Ticket** | Номер билета | текстовая строка |\n",
        "| **Fare** | Стоимость билета | числовое значение |\n",
        "| **Cabin** | Номер каюты | текстовая строка (много пропусков) |\n",
        "| **Embarked** | Порт посадки | C — Шербур (Cherbourg), Q — Куинстаун (Queenstown), S — Саутгемптон (Southampton) |\n"
      ],
      "metadata": {
        "id": "SqPCverMJlDE"
      }
    },
    {
      "cell_type": "code",
      "source": [
        "print(train.shape)      # размерность (строки, столбцы)\n",
        "print()\n",
        "print(train.dtypes)     # типы столбцов\n",
        "print()\n",
        "train.sample(5, random_state=42) # случайная выборка"
      ],
      "metadata": {
        "colab": {
          "base_uri": "https://localhost:8080/",
          "height": 474
        },
        "id": "BY1hEAM3I85e",
        "outputId": "c3e8e37a-a971-47cf-a811-a8ee78100fcf"
      },
      "execution_count": 7,
      "outputs": [
        {
          "output_type": "stream",
          "name": "stdout",
          "text": [
            "(418, 11)\n",
            "\n",
            "PassengerId      int64\n",
            "Pclass           int64\n",
            "Name            object\n",
            "Sex             object\n",
            "Age            float64\n",
            "SibSp            int64\n",
            "Parch            int64\n",
            "Ticket          object\n",
            "Fare           float64\n",
            "Cabin           object\n",
            "Embarked        object\n",
            "dtype: object\n",
            "\n"
          ]
        },
        {
          "output_type": "execute_result",
          "data": {
            "text/plain": [
              "     PassengerId  Pclass                                            Name  \\\n",
              "321         1213       3                           Krekorian, Mr. Neshan   \n",
              "324         1216       1                          Kreuchen, Miss. Emilie   \n",
              "388         1280       3                            Canavan, Mr. Patrick   \n",
              "56           948       3                                 Cor, Mr. Bartol   \n",
              "153         1045       3  Klasen, Mrs. (Hulda Kristina Eugenia Lofqvist)   \n",
              "\n",
              "        Sex   Age  SibSp  Parch  Ticket      Fare  Cabin Embarked  \n",
              "321    male  25.0      0      0    2654    7.2292  F E57        C  \n",
              "324  female  39.0      0      0   24160  211.3375    NaN        S  \n",
              "388    male  21.0      0      0  364858    7.7500    NaN        Q  \n",
              "56     male  35.0      0      0  349230    7.8958    NaN        S  \n",
              "153  female  36.0      0      2  350405   12.1833    NaN        S  "
            ],
            "text/html": [
              "\n",
              "  <div id=\"df-625e0b6b-a788-4fc9-8d57-00a99b963a31\" class=\"colab-df-container\">\n",
              "    <div>\n",
              "<style scoped>\n",
              "    .dataframe tbody tr th:only-of-type {\n",
              "        vertical-align: middle;\n",
              "    }\n",
              "\n",
              "    .dataframe tbody tr th {\n",
              "        vertical-align: top;\n",
              "    }\n",
              "\n",
              "    .dataframe thead th {\n",
              "        text-align: right;\n",
              "    }\n",
              "</style>\n",
              "<table border=\"1\" class=\"dataframe\">\n",
              "  <thead>\n",
              "    <tr style=\"text-align: right;\">\n",
              "      <th></th>\n",
              "      <th>PassengerId</th>\n",
              "      <th>Pclass</th>\n",
              "      <th>Name</th>\n",
              "      <th>Sex</th>\n",
              "      <th>Age</th>\n",
              "      <th>SibSp</th>\n",
              "      <th>Parch</th>\n",
              "      <th>Ticket</th>\n",
              "      <th>Fare</th>\n",
              "      <th>Cabin</th>\n",
              "      <th>Embarked</th>\n",
              "    </tr>\n",
              "  </thead>\n",
              "  <tbody>\n",
              "    <tr>\n",
              "      <th>321</th>\n",
              "      <td>1213</td>\n",
              "      <td>3</td>\n",
              "      <td>Krekorian, Mr. Neshan</td>\n",
              "      <td>male</td>\n",
              "      <td>25.0</td>\n",
              "      <td>0</td>\n",
              "      <td>0</td>\n",
              "      <td>2654</td>\n",
              "      <td>7.2292</td>\n",
              "      <td>F E57</td>\n",
              "      <td>C</td>\n",
              "    </tr>\n",
              "    <tr>\n",
              "      <th>324</th>\n",
              "      <td>1216</td>\n",
              "      <td>1</td>\n",
              "      <td>Kreuchen, Miss. Emilie</td>\n",
              "      <td>female</td>\n",
              "      <td>39.0</td>\n",
              "      <td>0</td>\n",
              "      <td>0</td>\n",
              "      <td>24160</td>\n",
              "      <td>211.3375</td>\n",
              "      <td>NaN</td>\n",
              "      <td>S</td>\n",
              "    </tr>\n",
              "    <tr>\n",
              "      <th>388</th>\n",
              "      <td>1280</td>\n",
              "      <td>3</td>\n",
              "      <td>Canavan, Mr. Patrick</td>\n",
              "      <td>male</td>\n",
              "      <td>21.0</td>\n",
              "      <td>0</td>\n",
              "      <td>0</td>\n",
              "      <td>364858</td>\n",
              "      <td>7.7500</td>\n",
              "      <td>NaN</td>\n",
              "      <td>Q</td>\n",
              "    </tr>\n",
              "    <tr>\n",
              "      <th>56</th>\n",
              "      <td>948</td>\n",
              "      <td>3</td>\n",
              "      <td>Cor, Mr. Bartol</td>\n",
              "      <td>male</td>\n",
              "      <td>35.0</td>\n",
              "      <td>0</td>\n",
              "      <td>0</td>\n",
              "      <td>349230</td>\n",
              "      <td>7.8958</td>\n",
              "      <td>NaN</td>\n",
              "      <td>S</td>\n",
              "    </tr>\n",
              "    <tr>\n",
              "      <th>153</th>\n",
              "      <td>1045</td>\n",
              "      <td>3</td>\n",
              "      <td>Klasen, Mrs. (Hulda Kristina Eugenia Lofqvist)</td>\n",
              "      <td>female</td>\n",
              "      <td>36.0</td>\n",
              "      <td>0</td>\n",
              "      <td>2</td>\n",
              "      <td>350405</td>\n",
              "      <td>12.1833</td>\n",
              "      <td>NaN</td>\n",
              "      <td>S</td>\n",
              "    </tr>\n",
              "  </tbody>\n",
              "</table>\n",
              "</div>\n",
              "    <div class=\"colab-df-buttons\">\n",
              "\n",
              "  <div class=\"colab-df-container\">\n",
              "    <button class=\"colab-df-convert\" onclick=\"convertToInteractive('df-625e0b6b-a788-4fc9-8d57-00a99b963a31')\"\n",
              "            title=\"Convert this dataframe to an interactive table.\"\n",
              "            style=\"display:none;\">\n",
              "\n",
              "  <svg xmlns=\"http://www.w3.org/2000/svg\" height=\"24px\" viewBox=\"0 -960 960 960\">\n",
              "    <path d=\"M120-120v-720h720v720H120Zm60-500h600v-160H180v160Zm220 220h160v-160H400v160Zm0 220h160v-160H400v160ZM180-400h160v-160H180v160Zm440 0h160v-160H620v160ZM180-180h160v-160H180v160Zm440 0h160v-160H620v160Z\"/>\n",
              "  </svg>\n",
              "    </button>\n",
              "\n",
              "  <style>\n",
              "    .colab-df-container {\n",
              "      display:flex;\n",
              "      gap: 12px;\n",
              "    }\n",
              "\n",
              "    .colab-df-convert {\n",
              "      background-color: #E8F0FE;\n",
              "      border: none;\n",
              "      border-radius: 50%;\n",
              "      cursor: pointer;\n",
              "      display: none;\n",
              "      fill: #1967D2;\n",
              "      height: 32px;\n",
              "      padding: 0 0 0 0;\n",
              "      width: 32px;\n",
              "    }\n",
              "\n",
              "    .colab-df-convert:hover {\n",
              "      background-color: #E2EBFA;\n",
              "      box-shadow: 0px 1px 2px rgba(60, 64, 67, 0.3), 0px 1px 3px 1px rgba(60, 64, 67, 0.15);\n",
              "      fill: #174EA6;\n",
              "    }\n",
              "\n",
              "    .colab-df-buttons div {\n",
              "      margin-bottom: 4px;\n",
              "    }\n",
              "\n",
              "    [theme=dark] .colab-df-convert {\n",
              "      background-color: #3B4455;\n",
              "      fill: #D2E3FC;\n",
              "    }\n",
              "\n",
              "    [theme=dark] .colab-df-convert:hover {\n",
              "      background-color: #434B5C;\n",
              "      box-shadow: 0px 1px 3px 1px rgba(0, 0, 0, 0.15);\n",
              "      filter: drop-shadow(0px 1px 2px rgba(0, 0, 0, 0.3));\n",
              "      fill: #FFFFFF;\n",
              "    }\n",
              "  </style>\n",
              "\n",
              "    <script>\n",
              "      const buttonEl =\n",
              "        document.querySelector('#df-625e0b6b-a788-4fc9-8d57-00a99b963a31 button.colab-df-convert');\n",
              "      buttonEl.style.display =\n",
              "        google.colab.kernel.accessAllowed ? 'block' : 'none';\n",
              "\n",
              "      async function convertToInteractive(key) {\n",
              "        const element = document.querySelector('#df-625e0b6b-a788-4fc9-8d57-00a99b963a31');\n",
              "        const dataTable =\n",
              "          await google.colab.kernel.invokeFunction('convertToInteractive',\n",
              "                                                    [key], {});\n",
              "        if (!dataTable) return;\n",
              "\n",
              "        const docLinkHtml = 'Like what you see? Visit the ' +\n",
              "          '<a target=\"_blank\" href=https://colab.research.google.com/notebooks/data_table.ipynb>data table notebook</a>'\n",
              "          + ' to learn more about interactive tables.';\n",
              "        element.innerHTML = '';\n",
              "        dataTable['output_type'] = 'display_data';\n",
              "        await google.colab.output.renderOutput(dataTable, element);\n",
              "        const docLink = document.createElement('div');\n",
              "        docLink.innerHTML = docLinkHtml;\n",
              "        element.appendChild(docLink);\n",
              "      }\n",
              "    </script>\n",
              "  </div>\n",
              "\n",
              "\n",
              "    <div id=\"df-586b8c3d-995f-48cb-bdec-feb0e353d2aa\">\n",
              "      <button class=\"colab-df-quickchart\" onclick=\"quickchart('df-586b8c3d-995f-48cb-bdec-feb0e353d2aa')\"\n",
              "                title=\"Suggest charts\"\n",
              "                style=\"display:none;\">\n",
              "\n",
              "<svg xmlns=\"http://www.w3.org/2000/svg\" height=\"24px\"viewBox=\"0 0 24 24\"\n",
              "     width=\"24px\">\n",
              "    <g>\n",
              "        <path d=\"M19 3H5c-1.1 0-2 .9-2 2v14c0 1.1.9 2 2 2h14c1.1 0 2-.9 2-2V5c0-1.1-.9-2-2-2zM9 17H7v-7h2v7zm4 0h-2V7h2v10zm4 0h-2v-4h2v4z\"/>\n",
              "    </g>\n",
              "</svg>\n",
              "      </button>\n",
              "\n",
              "<style>\n",
              "  .colab-df-quickchart {\n",
              "      --bg-color: #E8F0FE;\n",
              "      --fill-color: #1967D2;\n",
              "      --hover-bg-color: #E2EBFA;\n",
              "      --hover-fill-color: #174EA6;\n",
              "      --disabled-fill-color: #AAA;\n",
              "      --disabled-bg-color: #DDD;\n",
              "  }\n",
              "\n",
              "  [theme=dark] .colab-df-quickchart {\n",
              "      --bg-color: #3B4455;\n",
              "      --fill-color: #D2E3FC;\n",
              "      --hover-bg-color: #434B5C;\n",
              "      --hover-fill-color: #FFFFFF;\n",
              "      --disabled-bg-color: #3B4455;\n",
              "      --disabled-fill-color: #666;\n",
              "  }\n",
              "\n",
              "  .colab-df-quickchart {\n",
              "    background-color: var(--bg-color);\n",
              "    border: none;\n",
              "    border-radius: 50%;\n",
              "    cursor: pointer;\n",
              "    display: none;\n",
              "    fill: var(--fill-color);\n",
              "    height: 32px;\n",
              "    padding: 0;\n",
              "    width: 32px;\n",
              "  }\n",
              "\n",
              "  .colab-df-quickchart:hover {\n",
              "    background-color: var(--hover-bg-color);\n",
              "    box-shadow: 0 1px 2px rgba(60, 64, 67, 0.3), 0 1px 3px 1px rgba(60, 64, 67, 0.15);\n",
              "    fill: var(--button-hover-fill-color);\n",
              "  }\n",
              "\n",
              "  .colab-df-quickchart-complete:disabled,\n",
              "  .colab-df-quickchart-complete:disabled:hover {\n",
              "    background-color: var(--disabled-bg-color);\n",
              "    fill: var(--disabled-fill-color);\n",
              "    box-shadow: none;\n",
              "  }\n",
              "\n",
              "  .colab-df-spinner {\n",
              "    border: 2px solid var(--fill-color);\n",
              "    border-color: transparent;\n",
              "    border-bottom-color: var(--fill-color);\n",
              "    animation:\n",
              "      spin 1s steps(1) infinite;\n",
              "  }\n",
              "\n",
              "  @keyframes spin {\n",
              "    0% {\n",
              "      border-color: transparent;\n",
              "      border-bottom-color: var(--fill-color);\n",
              "      border-left-color: var(--fill-color);\n",
              "    }\n",
              "    20% {\n",
              "      border-color: transparent;\n",
              "      border-left-color: var(--fill-color);\n",
              "      border-top-color: var(--fill-color);\n",
              "    }\n",
              "    30% {\n",
              "      border-color: transparent;\n",
              "      border-left-color: var(--fill-color);\n",
              "      border-top-color: var(--fill-color);\n",
              "      border-right-color: var(--fill-color);\n",
              "    }\n",
              "    40% {\n",
              "      border-color: transparent;\n",
              "      border-right-color: var(--fill-color);\n",
              "      border-top-color: var(--fill-color);\n",
              "    }\n",
              "    60% {\n",
              "      border-color: transparent;\n",
              "      border-right-color: var(--fill-color);\n",
              "    }\n",
              "    80% {\n",
              "      border-color: transparent;\n",
              "      border-right-color: var(--fill-color);\n",
              "      border-bottom-color: var(--fill-color);\n",
              "    }\n",
              "    90% {\n",
              "      border-color: transparent;\n",
              "      border-bottom-color: var(--fill-color);\n",
              "    }\n",
              "  }\n",
              "</style>\n",
              "\n",
              "      <script>\n",
              "        async function quickchart(key) {\n",
              "          const quickchartButtonEl =\n",
              "            document.querySelector('#' + key + ' button');\n",
              "          quickchartButtonEl.disabled = true;  // To prevent multiple clicks.\n",
              "          quickchartButtonEl.classList.add('colab-df-spinner');\n",
              "          try {\n",
              "            const charts = await google.colab.kernel.invokeFunction(\n",
              "                'suggestCharts', [key], {});\n",
              "          } catch (error) {\n",
              "            console.error('Error during call to suggestCharts:', error);\n",
              "          }\n",
              "          quickchartButtonEl.classList.remove('colab-df-spinner');\n",
              "          quickchartButtonEl.classList.add('colab-df-quickchart-complete');\n",
              "        }\n",
              "        (() => {\n",
              "          let quickchartButtonEl =\n",
              "            document.querySelector('#df-586b8c3d-995f-48cb-bdec-feb0e353d2aa button');\n",
              "          quickchartButtonEl.style.display =\n",
              "            google.colab.kernel.accessAllowed ? 'block' : 'none';\n",
              "        })();\n",
              "      </script>\n",
              "    </div>\n",
              "    </div>\n",
              "  </div>\n"
            ],
            "application/vnd.google.colaboratory.intrinsic+json": {
              "type": "dataframe",
              "summary": "{\n  \"name\": \"train\",\n  \"rows\": 5,\n  \"fields\": [\n    {\n      \"column\": \"PassengerId\",\n      \"properties\": {\n        \"dtype\": \"number\",\n        \"std\": 138,\n        \"min\": 948,\n        \"max\": 1280,\n        \"num_unique_values\": 5,\n        \"samples\": [\n          1216,\n          1045,\n          1280\n        ],\n        \"semantic_type\": \"\",\n        \"description\": \"\"\n      }\n    },\n    {\n      \"column\": \"Pclass\",\n      \"properties\": {\n        \"dtype\": \"number\",\n        \"std\": 0,\n        \"min\": 1,\n        \"max\": 3,\n        \"num_unique_values\": 2,\n        \"samples\": [\n          1,\n          3\n        ],\n        \"semantic_type\": \"\",\n        \"description\": \"\"\n      }\n    },\n    {\n      \"column\": \"Name\",\n      \"properties\": {\n        \"dtype\": \"string\",\n        \"num_unique_values\": 5,\n        \"samples\": [\n          \"Kreuchen, Miss. Emilie\",\n          \"Klasen, Mrs. (Hulda Kristina Eugenia Lofqvist)\"\n        ],\n        \"semantic_type\": \"\",\n        \"description\": \"\"\n      }\n    },\n    {\n      \"column\": \"Sex\",\n      \"properties\": {\n        \"dtype\": \"category\",\n        \"num_unique_values\": 2,\n        \"samples\": [\n          \"female\",\n          \"male\"\n        ],\n        \"semantic_type\": \"\",\n        \"description\": \"\"\n      }\n    },\n    {\n      \"column\": \"Age\",\n      \"properties\": {\n        \"dtype\": \"number\",\n        \"std\": 7.758865896508329,\n        \"min\": 21.0,\n        \"max\": 39.0,\n        \"num_unique_values\": 5,\n        \"samples\": [\n          39.0,\n          36.0\n        ],\n        \"semantic_type\": \"\",\n        \"description\": \"\"\n      }\n    },\n    {\n      \"column\": \"SibSp\",\n      \"properties\": {\n        \"dtype\": \"number\",\n        \"std\": 0,\n        \"min\": 0,\n        \"max\": 0,\n        \"num_unique_values\": 1,\n        \"samples\": [\n          0\n        ],\n        \"semantic_type\": \"\",\n        \"description\": \"\"\n      }\n    },\n    {\n      \"column\": \"Parch\",\n      \"properties\": {\n        \"dtype\": \"number\",\n        \"std\": 0,\n        \"min\": 0,\n        \"max\": 2,\n        \"num_unique_values\": 2,\n        \"samples\": [\n          2\n        ],\n        \"semantic_type\": \"\",\n        \"description\": \"\"\n      }\n    },\n    {\n      \"column\": \"Ticket\",\n      \"properties\": {\n        \"dtype\": \"string\",\n        \"num_unique_values\": 5,\n        \"samples\": [\n          \"24160\"\n        ],\n        \"semantic_type\": \"\",\n        \"description\": \"\"\n      }\n    },\n    {\n      \"column\": \"Fare\",\n      \"properties\": {\n        \"dtype\": \"number\",\n        \"std\": 90.61520449666821,\n        \"min\": 7.2292,\n        \"max\": 211.3375,\n        \"num_unique_values\": 5,\n        \"samples\": [\n          211.3375\n        ],\n        \"semantic_type\": \"\",\n        \"description\": \"\"\n      }\n    },\n    {\n      \"column\": \"Cabin\",\n      \"properties\": {\n        \"dtype\": \"category\",\n        \"num_unique_values\": 1,\n        \"samples\": [\n          \"F E57\"\n        ],\n        \"semantic_type\": \"\",\n        \"description\": \"\"\n      }\n    },\n    {\n      \"column\": \"Embarked\",\n      \"properties\": {\n        \"dtype\": \"string\",\n        \"num_unique_values\": 3,\n        \"samples\": [\n          \"C\"\n        ],\n        \"semantic_type\": \"\",\n        \"description\": \"\"\n      }\n    }\n  ]\n}"
            }
          },
          "metadata": {},
          "execution_count": 7
        }
      ]
    },
    {
      "cell_type": "markdown",
      "source": [
        "## EDA (Exploratory Data Analysis) — разведочный анализ данных"
      ],
      "metadata": {
        "id": "9M-NSnJ0NbI9"
      }
    },
    {
      "cell_type": "markdown",
      "source": [
        "Оценим наличие и количество Nan"
      ],
      "metadata": {
        "id": "QjFYQPEVNgGa"
      }
    },
    {
      "cell_type": "code",
      "source": [
        "train.isna().sum()"
      ],
      "metadata": {
        "colab": {
          "base_uri": "https://localhost:8080/",
          "height": 429
        },
        "id": "Cc25Z1rONj_m",
        "outputId": "88711ee2-1be7-4763-b847-d4b7807809d0"
      },
      "execution_count": 10,
      "outputs": [
        {
          "output_type": "execute_result",
          "data": {
            "text/plain": [
              "PassengerId      0\n",
              "Pclass           0\n",
              "Name             0\n",
              "Sex              0\n",
              "Age             86\n",
              "SibSp            0\n",
              "Parch            0\n",
              "Ticket           0\n",
              "Fare             1\n",
              "Cabin          327\n",
              "Embarked         0\n",
              "dtype: int64"
            ],
            "text/html": [
              "<div>\n",
              "<style scoped>\n",
              "    .dataframe tbody tr th:only-of-type {\n",
              "        vertical-align: middle;\n",
              "    }\n",
              "\n",
              "    .dataframe tbody tr th {\n",
              "        vertical-align: top;\n",
              "    }\n",
              "\n",
              "    .dataframe thead th {\n",
              "        text-align: right;\n",
              "    }\n",
              "</style>\n",
              "<table border=\"1\" class=\"dataframe\">\n",
              "  <thead>\n",
              "    <tr style=\"text-align: right;\">\n",
              "      <th></th>\n",
              "      <th>0</th>\n",
              "    </tr>\n",
              "  </thead>\n",
              "  <tbody>\n",
              "    <tr>\n",
              "      <th>PassengerId</th>\n",
              "      <td>0</td>\n",
              "    </tr>\n",
              "    <tr>\n",
              "      <th>Pclass</th>\n",
              "      <td>0</td>\n",
              "    </tr>\n",
              "    <tr>\n",
              "      <th>Name</th>\n",
              "      <td>0</td>\n",
              "    </tr>\n",
              "    <tr>\n",
              "      <th>Sex</th>\n",
              "      <td>0</td>\n",
              "    </tr>\n",
              "    <tr>\n",
              "      <th>Age</th>\n",
              "      <td>86</td>\n",
              "    </tr>\n",
              "    <tr>\n",
              "      <th>SibSp</th>\n",
              "      <td>0</td>\n",
              "    </tr>\n",
              "    <tr>\n",
              "      <th>Parch</th>\n",
              "      <td>0</td>\n",
              "    </tr>\n",
              "    <tr>\n",
              "      <th>Ticket</th>\n",
              "      <td>0</td>\n",
              "    </tr>\n",
              "    <tr>\n",
              "      <th>Fare</th>\n",
              "      <td>1</td>\n",
              "    </tr>\n",
              "    <tr>\n",
              "      <th>Cabin</th>\n",
              "      <td>327</td>\n",
              "    </tr>\n",
              "    <tr>\n",
              "      <th>Embarked</th>\n",
              "      <td>0</td>\n",
              "    </tr>\n",
              "  </tbody>\n",
              "</table>\n",
              "</div><br><label><b>dtype:</b> int64</label>"
            ]
          },
          "metadata": {},
          "execution_count": 10
        }
      ]
    },
    {
      "cell_type": "markdown",
      "source": [
        "И в процентном соотношении"
      ],
      "metadata": {
        "id": "6HcU-34PNoZ7"
      }
    },
    {
      "cell_type": "code",
      "source": [
        "train.isna().mean().sort_values(ascending=False) # доля пропусков по признакам"
      ],
      "metadata": {
        "colab": {
          "base_uri": "https://localhost:8080/",
          "height": 429
        },
        "id": "yfkWfA0cJJAB",
        "outputId": "9466566d-3c5d-477f-f28b-bffad3d316ec"
      },
      "execution_count": 8,
      "outputs": [
        {
          "output_type": "execute_result",
          "data": {
            "text/plain": [
              "Cabin          0.782297\n",
              "Age            0.205742\n",
              "Fare           0.002392\n",
              "Name           0.000000\n",
              "Pclass         0.000000\n",
              "PassengerId    0.000000\n",
              "Sex            0.000000\n",
              "Parch          0.000000\n",
              "SibSp          0.000000\n",
              "Ticket         0.000000\n",
              "Embarked       0.000000\n",
              "dtype: float64"
            ],
            "text/html": [
              "<div>\n",
              "<style scoped>\n",
              "    .dataframe tbody tr th:only-of-type {\n",
              "        vertical-align: middle;\n",
              "    }\n",
              "\n",
              "    .dataframe tbody tr th {\n",
              "        vertical-align: top;\n",
              "    }\n",
              "\n",
              "    .dataframe thead th {\n",
              "        text-align: right;\n",
              "    }\n",
              "</style>\n",
              "<table border=\"1\" class=\"dataframe\">\n",
              "  <thead>\n",
              "    <tr style=\"text-align: right;\">\n",
              "      <th></th>\n",
              "      <th>0</th>\n",
              "    </tr>\n",
              "  </thead>\n",
              "  <tbody>\n",
              "    <tr>\n",
              "      <th>Cabin</th>\n",
              "      <td>0.782297</td>\n",
              "    </tr>\n",
              "    <tr>\n",
              "      <th>Age</th>\n",
              "      <td>0.205742</td>\n",
              "    </tr>\n",
              "    <tr>\n",
              "      <th>Fare</th>\n",
              "      <td>0.002392</td>\n",
              "    </tr>\n",
              "    <tr>\n",
              "      <th>Name</th>\n",
              "      <td>0.000000</td>\n",
              "    </tr>\n",
              "    <tr>\n",
              "      <th>Pclass</th>\n",
              "      <td>0.000000</td>\n",
              "    </tr>\n",
              "    <tr>\n",
              "      <th>PassengerId</th>\n",
              "      <td>0.000000</td>\n",
              "    </tr>\n",
              "    <tr>\n",
              "      <th>Sex</th>\n",
              "      <td>0.000000</td>\n",
              "    </tr>\n",
              "    <tr>\n",
              "      <th>Parch</th>\n",
              "      <td>0.000000</td>\n",
              "    </tr>\n",
              "    <tr>\n",
              "      <th>SibSp</th>\n",
              "      <td>0.000000</td>\n",
              "    </tr>\n",
              "    <tr>\n",
              "      <th>Ticket</th>\n",
              "      <td>0.000000</td>\n",
              "    </tr>\n",
              "    <tr>\n",
              "      <th>Embarked</th>\n",
              "      <td>0.000000</td>\n",
              "    </tr>\n",
              "  </tbody>\n",
              "</table>\n",
              "</div><br><label><b>dtype:</b> float64</label>"
            ]
          },
          "metadata": {},
          "execution_count": 8
        }
      ]
    },
    {
      "cell_type": "markdown",
      "source": [
        "Делаем мини вывод о том, что `cabin` можно безопасно удалить, а остальные данные аккуратно заполнить\n",
        "\n"
      ],
      "metadata": {
        "id": "ocRc3qASLhiN"
      }
    },
    {
      "cell_type": "code",
      "source": [
        "full =train.copy()"
      ],
      "metadata": {
        "id": "5eEDV3eekieb"
      },
      "execution_count": 57,
      "outputs": []
    },
    {
      "cell_type": "code",
      "source": [
        "# === 1) Признак наличия каюты и удаление 'Cabin' ===\n",
        "# notna() -> True там, где значение НЕ NaN, иначе False.\n",
        "# astype(int) превращает булевы значения в 1/0 (True->1, False->0).\n",
        "full['HasCabin'] = full['Cabin'].notna().astype(int)"
      ],
      "metadata": {
        "id": "yIAe-LM2LEJu"
      },
      "execution_count": 58,
      "outputs": []
    },
    {
      "cell_type": "code",
      "source": [
        "full = full.drop(columns=['Cabin'])"
      ],
      "metadata": {
        "id": "_yHODQRkNAT2"
      },
      "execution_count": 59,
      "outputs": []
    },
    {
      "cell_type": "code",
      "source": [
        "# === 2) Заполнение возраста по медиане в группах (Pclass × Sex) ===\n",
        "# Логика:\n",
        "#   - группируем DataFrame по комбинации признаков 'Pclass' и 'Sex';\n",
        "#   - в каждой группе считаем медиану возраста (NaN игнорируются);\n",
        "#   - заполняем пропуски Age внутри своей группы этой медианой;\n",
        "full['Age'] = (\n",
        "    full\n",
        "      .groupby(['Pclass', 'Sex'])['Age']               # группировка и выбор колонки Age\n",
        "      .transform(lambda s: s.fillna(s.median()))       # внутри каждой группы: NaN -> медиа́на группы\n",
        ")\n",
        "#   - transform(...) возвращает серию той же длины, выровненную по индексам исходного DataFrame,\n",
        "#     поэтому мы можем безопасно присвоить её в full['Age']."
      ],
      "metadata": {
        "id": "m9jGk-1SNCLL"
      },
      "execution_count": 60,
      "outputs": []
    },
    {
      "cell_type": "code",
      "source": [
        "# === 3) Заполнение Fare единой медианой по всему набору ===\n",
        "full['Fare'] = full['Fare'].fillna(full['Fare'].median())"
      ],
      "metadata": {
        "id": "5RFOSrz4NNrV"
      },
      "execution_count": 61,
      "outputs": []
    },
    {
      "cell_type": "markdown",
      "source": [
        "### Визуализация зависимостей в данных"
      ],
      "metadata": {
        "id": "e_sPlAVjOhOU"
      }
    },
    {
      "cell_type": "code",
      "source": [
        "import matplotlib.pyplot as plt"
      ],
      "metadata": {
        "id": "QAx1EslJNXid"
      },
      "execution_count": 11,
      "outputs": []
    },
    {
      "cell_type": "code",
      "source": [
        "# вычисляем долю выживших по полу\n",
        "surv_by_sex = (train\n",
        "               .groupby('Sex')['Survived']\n",
        "               .mean()\n",
        "               .sort_values(ascending=False))"
      ],
      "metadata": {
        "id": "hbzCBPSoOkld"
      },
      "execution_count": 26,
      "outputs": []
    },
    {
      "cell_type": "code",
      "source": [
        "fig = plt.figure(figsize=(6,4))\n",
        "x = np.arange(len(surv_by_sex))\n",
        "plt.bar(x, surv_by_sex.values)\n",
        "plt.xticks(x, surv_by_sex.index)\n",
        "plt.ylim(0, 1)\n",
        "plt.ylabel('Доля выживших')\n",
        "plt.title('Выживаемость по полу')\n",
        "plt.grid(axis='y', linestyle='--', alpha=0.5)\n",
        "plt.show()"
      ],
      "metadata": {
        "colab": {
          "base_uri": "https://localhost:8080/",
          "height": 391
        },
        "id": "FM2_cl4-Oqjr",
        "outputId": "e6fdde35-4bad-4505-ad28-42a9f40c4266"
      },
      "execution_count": 27,
      "outputs": [
        {
          "output_type": "display_data",
          "data": {
            "text/plain": [
              "<Figure size 600x400 with 1 Axes>"
            ],
            "image/png": "[encoded data removed]"
          },
          "metadata": {}
        }
      ]
    },
    {
      "cell_type": "code",
      "source": [
        "# доля выживших по классу (1, 2, 3)\n",
        "surv_by_pclass = (train\n",
        "                  .groupby('Pclass')['Survived']\n",
        "                  .mean()\n",
        "                  .sort_index())\n",
        "\n",
        "fig = plt.figure(figsize=(6,4))\n",
        "x = np.arange(len(surv_by_pclass))\n",
        "plt.bar(x, surv_by_pclass.values)\n",
        "plt.xticks(x, surv_by_pclass.index.astype(str))\n",
        "plt.ylim(0, 1)\n",
        "plt.ylabel('Доля выживших')\n",
        "plt.xlabel('Класс билета')\n",
        "plt.title('Выживаемость по классу билета')\n",
        "plt.grid(axis='y', linestyle='--', alpha=0.5)\n",
        "plt.show()"
      ],
      "metadata": {
        "colab": {
          "base_uri": "https://localhost:8080/",
          "height": 410
        },
        "id": "wv6WtGe0RwLj",
        "outputId": "d9e5db87-822a-406b-c61c-45a2f3c63fc0"
      },
      "execution_count": 28,
      "outputs": [
        {
          "output_type": "display_data",
          "data": {
            "text/plain": [
              "<Figure size 600x400 with 1 Axes>"
            ],
            "image/png": "[encoded data removed]"
          },
          "metadata": {}
        }
      ]
    },
    {
      "cell_type": "code",
      "source": [
        "# бинируем возраст и считаем долю выживших в каждом бине\n",
        "#    Это важно, потому что нам нужны одновременно и возраст, и метка выживания.\n",
        "age = train[['Age','Survived']]\n",
        "#    np.arange(0, 85, 5) создаст массив [0, 5, 10, ..., 80].\n",
        "bins = np.arange(0, 85, 5)  # шаг 5 лет\n",
        "#    pd.cut раскладывает числовой признак по «коробкам».\n",
        "#    - bins=bins — используем заданные нами границы\n",
        "#    - right=False — делаем полуинтервалы вида [a, b), т.е. правая граница НЕ включается\n",
        "#      (это убирает двусмысленность на стыках и делает бины одинаковыми по смыслу).\n",
        "age['age_bin'] = pd.cut(age['Age'], bins=bins, right=False)\n",
        "# Для каждого бина считаем среднее значение целевой переменной Survived.\n",
        "rate_by_agebin = (age\n",
        "                  .groupby('age_bin')['Survived']\n",
        "                  .mean())\n",
        "#    Интуитивно хотим поставить точку в \"середину\" каждого возрастного интервала\n",
        "centers = [interval.left + (interval.length/2) for interval in rate_by_agebin.index]\n",
        "\n",
        "\n",
        "# Строим график.\n",
        "fig = plt.figure(figsize=(7,4))\n",
        "plt.plot(centers, rate_by_agebin.values, marker='o')\n",
        "plt.ylim(0, 1)\n",
        "plt.xlim(min(centers), max(centers))\n",
        "plt.xlabel('Возраст')\n",
        "plt.ylabel('Доля выживших')\n",
        "plt.title('Выживаемость vs возраст')\n",
        "plt.grid(True, linestyle='--', alpha=0.5)\n",
        "plt.show()\n"
      ],
      "metadata": {
        "colab": {
          "base_uri": "https://localhost:8080/",
          "height": 573
        },
        "id": "OZ-mZuc7R_43",
        "outputId": "a0291368-ffb0-4ee4-aba0-1d5052902f7a"
      },
      "execution_count": 32,
      "outputs": [
        {
          "output_type": "stream",
          "name": "stderr",
          "text": [
            "/tmp/ipython-input-2103370699.py:7: SettingWithCopyWarning: \n",
            "A value is trying to be set on a copy of a slice from a DataFrame.\n",
            "Try using .loc[row_indexer,col_indexer] = value instead\n",
            "\n",
            "See the caveats in the documentation: https://pandas.pydata.org/pandas-docs/stable/user_guide/indexing.html#returning-a-view-versus-a-copy\n",
            "  age['age_bin'] = pd.cut(age['Age'], bins=bins, right=False)\n",
            "/tmp/ipython-input-2103370699.py:10: FutureWarning: The default of observed=False is deprecated and will be changed to True in a future version of pandas. Pass observed=False to retain current behavior or observed=True to adopt the future default and silence this warning.\n",
            "  .groupby('age_bin')['Survived']\n"
          ]
        },
        {
          "output_type": "display_data",
          "data": {
            "text/plain": [
              "<Figure size 700x400 with 1 Axes>"
            ],
            "image/png": "[encoded data removed]"
          },
          "metadata": {}
        }
      ]
    },
    {
      "cell_type": "markdown",
      "source": [
        "## Фичи для Titanic: что это, зачем и как считаются"
      ],
      "metadata": {
        "id": "5XCvPNqxe9YG"
      }
    },
    {
      "cell_type": "markdown",
      "source": [
        "### 1) `FamilySize`\n",
        "- **Как считаем:** `FamilySize = SibSp + Parch + 1` (прибавляем самого пассажира).\n",
        "- **Зачем:** отражает, путешествует ли человек один, в маленькой/большой семье.\n",
        "- **Смысл:** одиночкам сложнее спастись, очень большим группам — тоже; средний размер часто “лучше”.\n",
        "- **Для модели:** числовой признак, хорошо ловит зависимость выживаемости от окружения.\n"
      ],
      "metadata": {
        "id": "NbdReHushIi5"
      }
    },
    {
      "cell_type": "code",
      "source": [
        "full['FamilySize'] = full['SibSp'] + full['Parch'] + 1"
      ],
      "metadata": {
        "id": "fBz-_GzKSBx4"
      },
      "execution_count": 62,
      "outputs": []
    },
    {
      "cell_type": "markdown",
      "source": [
        "### 2) `IsAlone`\n",
        "- **Как считаем:** `IsAlone = int(FamilySize == 1)`.\n",
        "- **Зачем:** бинарный индикатор одиночки.\n",
        "- **Смысл:** одиночки выживали реже.\n",
        "- **Для модели:** простой и информативный бинарный флаг, часто полезнее, чем сырой `SibSp`/`Parch`."
      ],
      "metadata": {
        "id": "MjZp1owQhNJJ"
      }
    },
    {
      "cell_type": "code",
      "source": [
        "full['IsAlone'] = (full['FamilySize'] == 1).astype(int)"
      ],
      "metadata": {
        "id": "2sPuYClAfBk7"
      },
      "execution_count": 63,
      "outputs": []
    },
    {
      "cell_type": "markdown",
      "source": [
        "\n",
        "### 3) `Title` (титул из `Name`)\n",
        "- **Как считаем:** регулярным выражением берём подстроку между запятой и точкой в `Name`\n",
        "  (например, из `\"Braund, Mr. Owen Harris\"` → `\"Mr\"`), редкие титулы сводим в `\"Rare\"`.\n",
        "- **Зачем:** для пола/возраста/социального статуса.\n",
        "- **Смысл:** `Mrs/Miss/Master` коррелируют с выживаемостью.\n",
        "- **Для модели:** категориальный, даёт хороший прирост качества."
      ],
      "metadata": {
        "id": "juZXM8UwhPsl"
      }
    },
    {
      "cell_type": "code",
      "source": [
        "import re"
      ],
      "metadata": {
        "id": "KdFVwDfzjJe7"
      },
      "execution_count": 64,
      "outputs": []
    },
    {
      "cell_type": "code",
      "source": [
        "title_series = (\n",
        "    full['Name'] # берём столбец Name\n",
        "      .str.extract(r',\\s*([^\\.]+)\\.', expand=False) # применяет регулярное выражение ко всем строкам столбца;\n",
        "                                                    # expand=False → вернуть Series (а не DataFrame)\n",
        "      .str.strip() # Избавимся от лишних пробелов\n",
        ")"
      ],
      "metadata": {
        "id": "mMhlkfW1he0S"
      },
      "execution_count": 65,
      "outputs": []
    },
    {
      "cell_type": "markdown",
      "source": [
        "#### Разбор регулярного выражения `r',\\s*([^\\.]+)\\.'`\n"
      ],
      "metadata": {
        "id": "zS-n0mbwjc5r"
      }
    },
    {
      "cell_type": "markdown",
      "source": [
        "Эта регулярка извлекает титул из строки `Name` в датасете Titanic.  \n",
        "Вот что делает каждая её часть:\n",
        "\n",
        "---"
      ],
      "metadata": {
        "id": "XmsCdunWkHP2"
      }
    },
    {
      "cell_type": "markdown",
      "source": [
        "| Элемент | Расшифровка | Что делает |\n",
        "|----------|--------------|-------------|\n",
        "| **`r''`** | «Raw string» — сырой литерал Python | Отключает экранирование в строке: `\\` остаются как есть для регулярки |\n",
        "| **`,`** | Буквальная запятая | В именах Titanic после фамилии идёт запятая: `\"Braund, Mr. Owen Harris\"` |\n",
        "| **`\\s*`** | Любые пробельные символы (пробел, таб и т.д.), 0 или больше | Позволяет пропустить пробелы после запятой |\n",
        "| **`(` … `)`** | Захватывающая группа | То, что найдено внутри скобок, вернётся функцией `.str.extract()` |\n",
        "| **`[^\\.]+`** | Символьный класс отрицания | Берём 1+ символов, **не являющихся точкой** — фактически «всё до первой точки» |\n",
        "| **`\\.`** | Буквальная точка | Точка, завершающая титул (`Mr.` / `Mrs.` / `Dr.` и т.п.) |"
      ],
      "metadata": {
        "id": "3gh5hJJ8kJQL"
      }
    },
    {
      "cell_type": "markdown",
      "source": [
        "---\n",
        "\n",
        "#### Итоговая логика\n",
        "> «Найди запятую, пропусти пробелы, возьми всё до ближайшей точки — это титул.»\n",
        "\n",
        "---"
      ],
      "metadata": {
        "id": "YCXG1n7JkL4O"
      }
    },
    {
      "cell_type": "markdown",
      "source": [
        "\n",
        "#### Пример\n",
        "\n",
        "| Исходная строка `Name` | Совпадение `([^\\.]+)` |\n",
        "|--------------------------|-----------------------|\n",
        "| `Braund, Mr. Owen Harris` | `Mr` |\n",
        "| `Cumings, Mrs. John Bradley (Florence Briggs Thayer)` | `Mrs` |"
      ],
      "metadata": {
        "id": "z0BrE7LFkO9j"
      }
    },
    {
      "cell_type": "code",
      "source": [
        "common_titles = {'Mr', 'Mrs', 'Miss', 'Master'}\n",
        "title_series = title_series.where(title_series.isin(common_titles), 'Rare')\n",
        "full['Title'] = title_series.fillna('Unknown')# на всякий случай подстрахуемся от NaN"
      ],
      "metadata": {
        "id": "nwP_B_KWhjqJ"
      },
      "execution_count": 66,
      "outputs": []
    },
    {
      "cell_type": "markdown",
      "source": [
        "\n",
        "### 4) `HasCabin`\n",
        "- **Как считаем:** `HasCabin = int(Cabin не NaN)`.\n",
        "- **Зачем:** факт наличия каюты — символ высокого класса/палубы.\n",
        "- **Смысл:** у 1-го класса чаще есть каюта → ближе к шлюпкам.\n",
        "- **Для модели:** бинарный флаг из “пропуска” часто информативен."
      ],
      "metadata": {
        "id": "laCKsV7fhSYB"
      }
    },
    {
      "cell_type": "code",
      "source": [
        "full['HasCabin'] = full['Cabin'].notna().astype(int)"
      ],
      "metadata": {
        "colab": {
          "base_uri": "https://localhost:8080/",
          "height": 561
        },
        "collapsed": true,
        "id": "68m6SLsMhP9C",
        "outputId": "beabd7cb-c9ed-4251-b97f-e4cd7e998a84"
      },
      "execution_count": 56,
      "outputs": [
        {
          "output_type": "error",
          "ename": "KeyError",
          "evalue": "'Cabin'",
          "traceback": [
            "\u001b[0;31m---------------------------------------------------------------------------\u001b[0m",
            "\u001b[0;31mKeyError\u001b[0m                                  Traceback (most recent call last)",
            "\u001b[0;32m/usr/local/lib/python3.12/dist-packages/pandas/core/indexes/base.py\u001b[0m in \u001b[0;36mget_loc\u001b[0;34m(self, key)\u001b[0m\n\u001b[1;32m   3804\u001b[0m         \u001b[0;32mtry\u001b[0m\u001b[0;34m:\u001b[0m\u001b[0;34m\u001b[0m\u001b[0;34m\u001b[0m\u001b[0m\n\u001b[0;32m-> 3805\u001b[0;31m             \u001b[0;32mreturn\u001b[0m \u001b[0mself\u001b[0m\u001b[0;34m.\u001b[0m\u001b[0m_engine\u001b[0m\u001b[0;34m.\u001b[0m\u001b[0mget_loc\u001b[0m\u001b[0;34m(\u001b[0m\u001b[0mcasted_key\u001b[0m\u001b[0;34m)\u001b[0m\u001b[0;34m\u001b[0m\u001b[0;34m\u001b[0m\u001b[0m\n\u001b[0m\u001b[1;32m   3806\u001b[0m         \u001b[0;32mexcept\u001b[0m \u001b[0mKeyError\u001b[0m \u001b[0;32mas\u001b[0m \u001b[0merr\u001b[0m\u001b[0;34m:\u001b[0m\u001b[0;34m\u001b[0m\u001b[0;34m\u001b[0m\u001b[0m\n",
            "\u001b[0;32mindex.pyx\u001b[0m in \u001b[0;36mpandas._libs.index.IndexEngine.get_loc\u001b[0;34m()\u001b[0m\n",
            "\u001b[0;32mindex.pyx\u001b[0m in \u001b[0;36mpandas._libs.index.IndexEngine.get_loc\u001b[0;34m()\u001b[0m\n",
            "\u001b[0;32mpandas/_libs/hashtable_class_helper.pxi\u001b[0m in \u001b[0;36mpandas._libs.hashtable.PyObjectHashTable.get_item\u001b[0;34m()\u001b[0m\n",
            "\u001b[0;32mpandas/_libs/hashtable_class_helper.pxi\u001b[0m in \u001b[0;36mpandas._libs.hashtable.PyObjectHashTable.get_item\u001b[0;34m()\u001b[0m\n",
            "\u001b[0;31mKeyError\u001b[0m: 'Cabin'",
            "\nThe above exception was the direct cause of the following exception:\n",
            "\u001b[0;31mKeyError\u001b[0m                                  Traceback (most recent call last)",
            "\u001b[0;32m/tmp/ipython-input-3508522638.py\u001b[0m in \u001b[0;36m<cell line: 0>\u001b[0;34m()\u001b[0m\n\u001b[0;32m----> 1\u001b[0;31m \u001b[0mfull\u001b[0m\u001b[0;34m[\u001b[0m\u001b[0;34m'HasCabin'\u001b[0m\u001b[0;34m]\u001b[0m \u001b[0;34m=\u001b[0m \u001b[0mfull\u001b[0m\u001b[0;34m[\u001b[0m\u001b[0;34m'Cabin'\u001b[0m\u001b[0;34m]\u001b[0m\u001b[0;34m.\u001b[0m\u001b[0mnotna\u001b[0m\u001b[0;34m(\u001b[0m\u001b[0;34m)\u001b[0m\u001b[0;34m.\u001b[0m\u001b[0mastype\u001b[0m\u001b[0;34m(\u001b[0m\u001b[0mint\u001b[0m\u001b[0;34m)\u001b[0m\u001b[0;34m\u001b[0m\u001b[0;34m\u001b[0m\u001b[0m\n\u001b[0m",
            "\u001b[0;32m/usr/local/lib/python3.12/dist-packages/pandas/core/frame.py\u001b[0m in \u001b[0;36m__getitem__\u001b[0;34m(self, key)\u001b[0m\n\u001b[1;32m   4100\u001b[0m             \u001b[0;32mif\u001b[0m \u001b[0mself\u001b[0m\u001b[0;34m.\u001b[0m\u001b[0mcolumns\u001b[0m\u001b[0;34m.\u001b[0m\u001b[0mnlevels\u001b[0m \u001b[0;34m>\u001b[0m \u001b[0;36m1\u001b[0m\u001b[0;34m:\u001b[0m\u001b[0;34m\u001b[0m\u001b[0;34m\u001b[0m\u001b[0m\n\u001b[1;32m   4101\u001b[0m                 \u001b[0;32mreturn\u001b[0m \u001b[0mself\u001b[0m\u001b[0;34m.\u001b[0m\u001b[0m_getitem_multilevel\u001b[0m\u001b[0;34m(\u001b[0m\u001b[0mkey\u001b[0m\u001b[0;34m)\u001b[0m\u001b[0;34m\u001b[0m\u001b[0;34m\u001b[0m\u001b[0m\n\u001b[0;32m-> 4102\u001b[0;31m             \u001b[0mindexer\u001b[0m \u001b[0;34m=\u001b[0m \u001b[0mself\u001b[0m\u001b[0;34m.\u001b[0m\u001b[0mcolumns\u001b[0m\u001b[0;34m.\u001b[0m\u001b[0mget_loc\u001b[0m\u001b[0;34m(\u001b[0m\u001b[0mkey\u001b[0m\u001b[0;34m)\u001b[0m\u001b[0;34m\u001b[0m\u001b[0;34m\u001b[0m\u001b[0m\n\u001b[0m\u001b[1;32m   4103\u001b[0m             \u001b[0;32mif\u001b[0m \u001b[0mis_integer\u001b[0m\u001b[0;34m(\u001b[0m\u001b[0mindexer\u001b[0m\u001b[0;34m)\u001b[0m\u001b[0;34m:\u001b[0m\u001b[0;34m\u001b[0m\u001b[0;34m\u001b[0m\u001b[0m\n\u001b[1;32m   4104\u001b[0m                 \u001b[0mindexer\u001b[0m \u001b[0;34m=\u001b[0m \u001b[0;34m[\u001b[0m\u001b[0mindexer\u001b[0m\u001b[0;34m]\u001b[0m\u001b[0;34m\u001b[0m\u001b[0;34m\u001b[0m\u001b[0m\n",
            "\u001b[0;32m/usr/local/lib/python3.12/dist-packages/pandas/core/indexes/base.py\u001b[0m in \u001b[0;36mget_loc\u001b[0;34m(self, key)\u001b[0m\n\u001b[1;32m   3810\u001b[0m             ):\n\u001b[1;32m   3811\u001b[0m                 \u001b[0;32mraise\u001b[0m \u001b[0mInvalidIndexError\u001b[0m\u001b[0;34m(\u001b[0m\u001b[0mkey\u001b[0m\u001b[0;34m)\u001b[0m\u001b[0;34m\u001b[0m\u001b[0;34m\u001b[0m\u001b[0m\n\u001b[0;32m-> 3812\u001b[0;31m             \u001b[0;32mraise\u001b[0m \u001b[0mKeyError\u001b[0m\u001b[0;34m(\u001b[0m\u001b[0mkey\u001b[0m\u001b[0;34m)\u001b[0m \u001b[0;32mfrom\u001b[0m \u001b[0merr\u001b[0m\u001b[0;34m\u001b[0m\u001b[0;34m\u001b[0m\u001b[0m\n\u001b[0m\u001b[1;32m   3813\u001b[0m         \u001b[0;32mexcept\u001b[0m \u001b[0mTypeError\u001b[0m\u001b[0;34m:\u001b[0m\u001b[0;34m\u001b[0m\u001b[0;34m\u001b[0m\u001b[0m\n\u001b[1;32m   3814\u001b[0m             \u001b[0;31m# If we have a listlike key, _check_indexing_error will raise\u001b[0m\u001b[0;34m\u001b[0m\u001b[0;34m\u001b[0m\u001b[0m\n",
            "\u001b[0;31mKeyError\u001b[0m: 'Cabin'"
          ]
        }
      ]
    },
    {
      "cell_type": "markdown",
      "source": [
        "### Визуализация пользы новых фич"
      ],
      "metadata": {
        "id": "5G0SlQ39k-8U"
      }
    },
    {
      "cell_type": "code",
      "source": [
        "# Группируем и считаем долю выживших\n",
        "family_surv = (full.groupby('FamilySize')['Survived']\n",
        "                   .mean()\n",
        "                   .sort_index())\n",
        "\n",
        "fig = plt.figure(figsize=(6,4))\n",
        "plt.plot(family_surv.index, family_surv.values, marker='o')\n",
        "plt.xlabel('Размер семьи (FamilySize)')\n",
        "plt.ylabel('Доля выживших')\n",
        "plt.title('Выживаемость в зависимости от размера семьи')\n",
        "plt.grid(True, linestyle='--', alpha=0.5)\n",
        "plt.ylim(0,1)\n",
        "plt.show()"
      ],
      "metadata": {
        "colab": {
          "base_uri": "https://localhost:8080/",
          "height": 410
        },
        "id": "BOlwIWZSkqS8",
        "outputId": "149d276a-f367-4f82-d935-665d65de5f89"
      },
      "execution_count": 67,
      "outputs": [
        {
          "output_type": "display_data",
          "data": {
            "text/plain": [
              "<Figure size 600x400 with 1 Axes>"
            ],
            "image/png": "[encoded data removed]"
          },
          "metadata": {}
        }
      ]
    },
    {
      "cell_type": "code",
      "source": [
        "# Доля выживших для двух категорий IsAlone = {0,1}\n",
        "alone_surv = full.groupby('IsAlone')['Survived'].mean()\n",
        "\n",
        "fig = plt.figure(figsize=(5,4))\n",
        "plt.bar(['Не один', 'Один'], alone_surv.values)\n",
        "plt.ylim(0,1)\n",
        "plt.ylabel('Доля выживших')\n",
        "plt.title('Выживаемость: одиночки vs не-одиночки')\n",
        "plt.grid(axis='y', linestyle='--', alpha=0.5)\n",
        "plt.show()\n"
      ],
      "metadata": {
        "colab": {
          "base_uri": "https://localhost:8080/",
          "height": 391
        },
        "id": "D-9Gx9lBlD2L",
        "outputId": "fc78568a-2877-45f3-adec-df69631183c6"
      },
      "execution_count": 69,
      "outputs": [
        {
          "output_type": "display_data",
          "data": {
            "text/plain": [
              "<Figure size 500x400 with 1 Axes>"
            ],
            "image/png": "[encoded data removed]"
          },
          "metadata": {}
        }
      ]
    },
    {
      "cell_type": "code",
      "source": [
        "# Средняя выживаемость по титулу\n",
        "title_surv = full.groupby('Title')['Survived'].mean().sort_values(ascending=False)\n",
        "\n",
        "fig = plt.figure(figsize=(7,4))\n",
        "plt.bar(title_surv.index, title_surv.values)\n",
        "plt.ylim(0,1)\n",
        "plt.ylabel('Доля выживших')\n",
        "plt.title('Выживаемость по титулу (Title)')\n",
        "plt.grid(axis='y', linestyle='--', alpha=0.5)\n",
        "plt.show()"
      ],
      "metadata": {
        "colab": {
          "base_uri": "https://localhost:8080/",
          "height": 391
        },
        "id": "c6KzPoallg4t",
        "outputId": "469dcfac-474a-4d1b-f865-149d37d4acba"
      },
      "execution_count": 70,
      "outputs": [
        {
          "output_type": "display_data",
          "data": {
            "text/plain": [
              "<Figure size 700x400 with 1 Axes>"
            ],
            "image/png": "[encoded data removed]"
          },
          "metadata": {}
        }
      ]
    },
    {
      "cell_type": "code",
      "source": [
        "# Группируем по HasCabin и считаем долю выживших\n",
        "cabin_surv = full.groupby('HasCabin')['Survived'].mean()\n",
        "\n",
        "fig = plt.figure(figsize=(5,4))\n",
        "plt.bar(['Без каюты','Есть каюта'], cabin_surv.values)\n",
        "plt.ylim(0,1)\n",
        "plt.ylabel('Доля выживших')\n",
        "plt.title('Выживаемость и наличие каюты')\n",
        "plt.grid(axis='y', linestyle='--', alpha=0.5)\n",
        "plt.show()\n"
      ],
      "metadata": {
        "colab": {
          "base_uri": "https://localhost:8080/",
          "height": 391
        },
        "id": "ZY9uUjSBllwL",
        "outputId": "67da0cc9-6667-45eb-8fcf-bf1462fb4285"
      },
      "execution_count": 71,
      "outputs": [
        {
          "output_type": "display_data",
          "data": {
            "text/plain": [
              "<Figure size 500x400 with 1 Axes>"
            ],
            "image/png": "[encoded data removed]"
          },
          "metadata": {}
        }
      ]
    },
    {
      "cell_type": "code",
      "source": [],
      "metadata": {
        "id": "Py4_M98WlpSd"
      },
      "execution_count": null,
      "outputs": []
    },
    {
      "cell_type": "markdown",
      "source": [
        "Выводы\n",
        "\n",
        "- Новые признаки действительно несут информацию о шансах на выживание.  \n",
        "- `IsAlone` и `FamilySize` показывают социальный фактор.  \n",
        "- `Title` и `HasCabin` отражают статус и условия размещения.  \n",
        "- Всё это даёт модели дополнительные осмысленные признаки, которые она может использовать при обучении."
      ],
      "metadata": {
        "id": "bAzHABA4lrYJ"
      }
    },
    {
      "cell_type": "markdown",
      "source": [
        "## Корреляции между признаками и целевой переменной (`Survived`)\n",
        "\n",
        "Чтобы понять, какие фичи сильнее всего связаны с выживаемостью, построим **тепловую карту (heatmap)**.\n",
        "Корреляция показывает степень линейной зависимости между переменными (от -1 до 1):\n",
        "- **близко к +1** → прямая связь (чем больше одно, тем больше другое);  \n",
        "- **близко к -1** → обратная связь (чем больше одно, тем меньше другое);  \n",
        "- **около 0** → линейной зависимости почти нет.\n"
      ],
      "metadata": {
        "id": "Gpg_54bRmMbj"
      }
    },
    {
      "cell_type": "code",
      "source": [
        "data_corr = full.copy()"
      ],
      "metadata": {
        "id": "874r1ZRHlrms"
      },
      "execution_count": 72,
      "outputs": []
    },
    {
      "cell_type": "code",
      "source": [
        "# Кодируем категориальные признаки в числа\n",
        "# (чтобы можно было считать корреляции)\n",
        "cat_cols = data_corr.select_dtypes('object').columns.tolist()\n",
        "for col in cat_cols:\n",
        "    data_corr[col] = data_corr[col].astype('category').cat.codes"
      ],
      "metadata": {
        "id": "T5XpzGIUmTd0"
      },
      "execution_count": 73,
      "outputs": []
    },
    {
      "cell_type": "code",
      "source": [
        "# На всякий случай уберём ID и неинформативные поля\n",
        "for drop_col in ['PassengerId', 'Name', 'Ticket']:\n",
        "    if drop_col in data_corr.columns:\n",
        "        data_corr = data_corr.drop(columns=[drop_col])"
      ],
      "metadata": {
        "id": "ura1EP_MmVCj"
      },
      "execution_count": 76,
      "outputs": []
    },
    {
      "cell_type": "code",
      "source": [
        "# Считаем матрицу корреляций (по числовым колонкам)\n",
        "corr_matrix = data_corr.corr(numeric_only=True)"
      ],
      "metadata": {
        "id": "MzQ5oRxFmVwZ"
      },
      "execution_count": 77,
      "outputs": []
    },
    {
      "cell_type": "code",
      "source": [
        "# Строим heatmap\n",
        "plt.figure(figsize=(10,8))\n",
        "plt.imshow(corr_matrix, cmap='inferno', interpolation='nearest')\n",
        "plt.colorbar(label='Коэффициент корреляции')\n",
        "plt.xticks(range(len(corr_matrix.columns)), corr_matrix.columns, rotation=90)\n",
        "plt.yticks(range(len(corr_matrix.columns)), corr_matrix.columns)\n",
        "plt.title('Тепловая карта корреляций признаков Titanic')\n",
        "plt.tight_layout()\n",
        "plt.show()"
      ],
      "metadata": {
        "colab": {
          "base_uri": "https://localhost:8080/",
          "height": 807
        },
        "id": "UZCr7B8Mmh4C",
        "outputId": "30bc0910-6cec-4a7a-c947-29493d08f7d7"
      },
      "execution_count": 78,
      "outputs": [
        {
          "output_type": "display_data",
          "data": {
            "text/plain": [
              "<Figure size 1000x800 with 2 Axes>"
            ],
            "image/png": "[encoded data removed]"
          },
          "metadata": {}
        }
      ]
    },
    {
      "cell_type": "markdown",
      "source": [
        "### Интерпретация\n",
        "\n",
        "- **`Sex` (в кодированной форме)** и `Pclass` дают сильную отрицательную корреляцию с `Survived` —  \n",
        "  мужчины и пассажиры 3-го класса выживали реже.  \n",
        "- **`Fare`**, **`Title`**, **`HasCabin`**, **`FamilySize`** — положительная связь:  \n",
        "  чем выше значение этих признаков, тем больше шанс выжить.  \n",
        "- **`IsAlone`** — отрицательная корреляция: одиночки выживали хуже.  \n",
        "- Корреляции между признаками (например, `Pclass` ↔ `Fare`) показывают,\n",
        "  что некоторые фичи частично дублируют друг друга — это нормально.\n",
        "\n",
        "> Корреляция не означает причинность!  \n",
        "> Модель машинного обучения учитывает нелинейные зависимости, поэтому слабая корреляция ≠ бесполезный признак.\n"
      ],
      "metadata": {
        "id": "nYnVemeOm4Bw"
      }
    },
    {
      "cell_type": "markdown",
      "source": [
        "## Этап обучения: делим данные и обучаем модель Random Forest\n"
      ],
      "metadata": {
        "id": "oZXhs-rzoftd"
      }
    },
    {
      "cell_type": "markdown",
      "source": [
        "Мы уже очистили и подготовили данные — теперь построим простую модель,\n",
        "которая будет предсказывать, выжил ли пассажир (`Survived`).\n",
        "\n",
        "В качестве алгоритма возьмём **RandomForestClassifier** —\n",
        "ансамбль решающих деревьев, который хорошо работает «из коробки» и не чувствителен к масштабу признаков."
      ],
      "metadata": {
        "id": "s38Nc2d1ojUZ"
      }
    },
    {
      "cell_type": "markdown",
      "source": [
        "Импорты"
      ],
      "metadata": {
        "id": "VDGbUOLxqmzR"
      }
    },
    {
      "cell_type": "code",
      "source": [
        "from sklearn.model_selection import train_test_split\n",
        "\n",
        "from sklearn.compose import ColumnTransformer\n",
        "from sklearn.pipeline import Pipeline\n",
        "from sklearn.preprocessing import OneHotEncoder\n",
        "from sklearn.impute import SimpleImputer\n",
        "\n",
        "from sklearn.ensemble import RandomForestClassifier\n",
        "\n",
        "from sklearn.metrics import (accuracy_score, precision_score, recall_score,\n",
        "                             f1_score, roc_auc_score, ConfusionMatrixDisplay,\n",
        "                             RocCurveDisplay)\n"
      ],
      "metadata": {
        "id": "9Nk-8Il9nFkk"
      },
      "execution_count": 98,
      "outputs": []
    },
    {
      "cell_type": "markdown",
      "source": [
        "Разделим данные на обучающую и тестовую выборки"
      ],
      "metadata": {
        "id": "X2KZO_S6qmHv"
      }
    },
    {
      "cell_type": "code",
      "source": [
        "# Целевая переменная и признаки\n",
        "target = 'Survived'\n",
        "X = full.drop(columns=[target])\n",
        "y = full[target]\n",
        "\n",
        "# Делим на train/valid (80/20), стратификация сохраняет баланс классов\n",
        "X_train, X_valid, y_train, y_valid = train_test_split(\n",
        "    X, y, test_size=0.2, random_state=42, stratify=y\n",
        ")"
      ],
      "metadata": {
        "id": "N27JLGc0oqIS"
      },
      "execution_count": 80,
      "outputs": []
    },
    {
      "cell_type": "code",
      "source": [
        "print(\"Размер обучающей выборки:\", X_train.shape)\n",
        "print(\"Размер валидационной выборки:\", X_valid.shape)"
      ],
      "metadata": {
        "colab": {
          "base_uri": "https://localhost:8080/"
        },
        "id": "xv3CEBnuot8X",
        "outputId": "0ace2d3f-8b13-455a-b421-fa160baf4c78"
      },
      "execution_count": 81,
      "outputs": [
        {
          "output_type": "stream",
          "name": "stdout",
          "text": [
            "Размер обучающей выборки: (712, 14)\n",
            "Размер валидационной выборки: (179, 14)\n"
          ]
        }
      ]
    },
    {
      "cell_type": "markdown",
      "source": [
        "Готовим препроцессор для числовых и категориальных признаков"
      ],
      "metadata": {
        "id": "ycNSIAc9qkgd"
      }
    },
    {
      "cell_type": "code",
      "source": [
        "# Определим типы признаков\n",
        "num_features = ['Age','SibSp','Parch','Fare','FamilySize','IsAlone','Pclass']\n",
        "cat_features = ['Sex','Embarked','Title','HasCabin']"
      ],
      "metadata": {
        "id": "1NRNvaKeo19f"
      },
      "execution_count": 91,
      "outputs": []
    },
    {
      "cell_type": "code",
      "source": [
        "# Препроцессинг для числовых: медиана вместо NaN\n",
        "numeric_prep = Pipeline(steps=[\n",
        "    ('imputer', SimpleImputer(strategy='median'))\n",
        "])\n",
        "\n",
        "# Для категориальных: наиболее частое значение + OneHotEncoder\n",
        "categorical_prep = Pipeline(steps=[\n",
        "    ('imputer', SimpleImputer(strategy='most_frequent')),\n",
        "    ('encoder', OneHotEncoder(handle_unknown='ignore'))\n",
        "])\n",
        "\n",
        "# Объединяем в единый препроцессор\n",
        "preprocess = ColumnTransformer(\n",
        "    transformers=[\n",
        "        ('num', numeric_prep, num_features),\n",
        "        ('cat', categorical_prep, cat_features)\n",
        "    ],\n",
        "    remainder='drop' # прочие колонки - дроп\n",
        ")"
      ],
      "metadata": {
        "id": "I_HwoEj9ou_h"
      },
      "execution_count": 92,
      "outputs": []
    },
    {
      "cell_type": "markdown",
      "source": [
        "Собираем Pipeline: препроцессор + модель RandomForest"
      ],
      "metadata": {
        "id": "ySgN6dCKqh9q"
      }
    },
    {
      "cell_type": "code",
      "source": [
        "# Создаём модель с базовыми параметрами\n",
        "rf_model = RandomForestClassifier(\n",
        "    n_estimators=200,     # количество деревьев\n",
        "    max_depth=None,       # глубина не ограничена\n",
        "    random_state=42,\n",
        "    n_jobs=-1             # использовать все ядра\n",
        ")"
      ],
      "metadata": {
        "id": "RhDI4Vwxozt_"
      },
      "execution_count": 93,
      "outputs": []
    },
    {
      "cell_type": "code",
      "source": [
        "# Склеиваем всё в единый Pipeline\n",
        "rf_pipeline = Pipeline(steps=[\n",
        "    ('preprocessor', preprocess),\n",
        "    ('model', rf_model)\n",
        "])"
      ],
      "metadata": {
        "id": "Tpbyo-eqpCQh"
      },
      "execution_count": 94,
      "outputs": []
    },
    {
      "cell_type": "code",
      "source": [
        "# Обучаем модель\n",
        "rf_pipeline.fit(X_train, y_train)\n",
        "print(\"Модель обучена\")"
      ],
      "metadata": {
        "colab": {
          "base_uri": "https://localhost:8080/"
        },
        "id": "bF5iJwxgpD2d",
        "outputId": "b2bc778e-8673-49e3-d4e0-8047403971ce"
      },
      "execution_count": 96,
      "outputs": [
        {
          "output_type": "stream",
          "name": "stdout",
          "text": [
            "Модель обучена\n"
          ]
        }
      ]
    },
    {
      "cell_type": "markdown",
      "source": [
        "Оцениваем качество модели"
      ],
      "metadata": {
        "id": "z0im9-_5quZI"
      }
    },
    {
      "cell_type": "code",
      "source": [
        "y_pred = rf_pipeline.predict(X_valid)\n",
        "y_proba = rf_pipeline.predict_proba(X_valid)[:, 1]"
      ],
      "metadata": {
        "id": "InYnb3fKqeYM"
      },
      "execution_count": 99,
      "outputs": []
    },
    {
      "cell_type": "code",
      "source": [
        "acc  = accuracy_score(y_valid, y_pred)\n",
        "prec = precision_score(y_valid, y_pred)\n",
        "rec  = recall_score(y_valid, y_pred)\n",
        "f1   = f1_score(y_valid, y_pred)\n",
        "roc  = roc_auc_score(y_valid, y_proba)"
      ],
      "metadata": {
        "id": "KfQgx83AqxCr"
      },
      "execution_count": 100,
      "outputs": []
    },
    {
      "cell_type": "code",
      "source": [
        "print(f\"Accuracy : {acc:.3f}\")\n",
        "print(f\"Precision: {prec:.3f}\")\n",
        "print(f\"Recall   : {rec:.3f}\")\n",
        "print(f\"F1-score : {f1:.3f}\")\n",
        "print(f\"ROC AUC  : {roc:.3f}\")"
      ],
      "metadata": {
        "colab": {
          "base_uri": "https://localhost:8080/"
        },
        "id": "yY93dwgmsfnk",
        "outputId": "7434cbb4-f6f0-455e-a1a7-4b235a11f4c0"
      },
      "execution_count": 107,
      "outputs": [
        {
          "output_type": "stream",
          "name": "stdout",
          "text": [
            "Accuracy : 0.799\n",
            "Precision: 0.739\n",
            "Recall   : 0.739\n",
            "F1-score : 0.739\n",
            "ROC AUC  : 0.827\n"
          ]
        }
      ]
    },
    {
      "cell_type": "code",
      "source": [
        "# Матрица ошибок\n",
        "ConfusionMatrixDisplay.from_estimator(\n",
        "    rf_pipeline, X_valid, y_valid,\n",
        "    display_labels=['N','T'],     # подписи вместо 0/1\n",
        "    cmap='Blues'                  # мягкая палитра\n",
        ")\n",
        "plt.title('Матрица ошибок (N/T пояснение классов)')\n",
        "plt.xlabel('Предсказано')\n",
        "plt.ylabel('Истинно')\n",
        "plt.show()"
      ],
      "metadata": {
        "colab": {
          "base_uri": "https://localhost:8080/",
          "height": 472
        },
        "id": "9sRcPWTIssW7",
        "outputId": "da29b7d4-d131-4a50-a0fc-f76c7a49f423"
      },
      "execution_count": 111,
      "outputs": [
        {
          "output_type": "display_data",
          "data": {
            "text/plain": [
              "<Figure size 640x480 with 2 Axes>"
            ],
            "image/png": "[encoded data removed]"
          },
          "metadata": {}
        }
      ]
    },
    {
      "cell_type": "markdown",
      "source": [
        "На графике выше показана **Confusion Matrix** — таблица, которая иллюстрирует,\n",
        "как модель классифицирует два возможных исхода:\n",
        "\n",
        "- **T (True / 1)** — пассажир **выжил**  \n",
        "- **N (Negative / 0)** — пассажир **не выжил**"
      ],
      "metadata": {
        "id": "n96ZfaKLtdIC"
      }
    },
    {
      "cell_type": "markdown",
      "source": [
        "Как читать таблицу\n",
        "\n",
        "| Истинно ↓ / Предсказано → | **N (не выжил)** | **T (выжил)** |\n",
        "|----------------------------|------------------|----------------|\n",
        "| **N (не выжил)** | **92 — TN (True Negative)**<br>Модель верно предсказала, что человек не выжил. | **18 — FP (False Positive)**<br>Ошибочно решила, что человек выжил, хотя он погиб. |\n",
        "| **T (выжил)** | **18 — FN (False Negative)**<br>Ошибочно решила, что человек не выжил, хотя он выжил. | **51 — TP (True Positive)**<br>Модель верно определила выжившего. |\n"
      ],
      "metadata": {
        "id": "1b0BMJJ1tfy2"
      }
    },
    {
      "cell_type": "markdown",
      "source": [
        "## Интерпретация метрик качества модели\n",
        "\n",
        "После обучения модели мы вывели:\n",
        "\n"
      ],
      "metadata": {
        "id": "PCaMzbs8rLt6"
      }
    },
    {
      "cell_type": "markdown",
      "source": [
        "### 1. **Accuracy** — общая точность классификации  \n",
        "\n",
        "**Формула:**  \n",
        "$$\n",
        "\\text{Accuracy}=\\frac{TP+TN}{TP+TN+FP+FN}\n",
        "$$"
      ],
      "metadata": {
        "id": "Ij2-Zai8rRYa"
      }
    },
    {
      "cell_type": "code",
      "source": [
        "print(f\"Accuracy : {acc:.3f}\")"
      ],
      "metadata": {
        "colab": {
          "base_uri": "https://localhost:8080/"
        },
        "id": "6and5lDSqySg",
        "outputId": "355a19fb-8250-4639-97cc-8f4ce16e4c85"
      },
      "execution_count": 102,
      "outputs": [
        {
          "output_type": "stream",
          "name": "stdout",
          "text": [
            "Accuracy : 0.799\n"
          ]
        }
      ]
    },
    {
      "cell_type": "markdown",
      "source": [
        "\n",
        "**Смысл:** доля всех правильно классифицированных пассажиров.  \n",
        "**Интерпретация:**  \n",
        "модель правильно определяет исход для ~80 % людей (8 из 10 случаев).\n",
        "\n",
        "**Когда полезно:** если классы примерно сбалансированы и обе ошибки одинаково «дороги».  \n",
        "**Когда врет:** если один класс сильно преобладает (например, 80 % погибших)."
      ],
      "metadata": {
        "id": "a11N3Z4PrWBM"
      }
    },
    {
      "cell_type": "markdown",
      "source": [
        "### 2. **Precision** — точность положительного класса (1 = «выжил»)  \n",
        "**Формула:**  \n",
        "$$\n",
        "\\text{Precision}=\\frac{TP}{TP+FP}\n",
        "$$\n",
        "\n",
        "**Смысл:** из всех, кого модель «спасла», сколько реально выжили.  \n",
        "**Интерпретация:** 0.739 → из всех «предсказанных выживших» реально выжили 74 %.  \n",
        "**Ошибка:** оставшиеся 26 % — ложные срабатывания (ошибочно спасённые).\n",
        "\n",
        "**Когда важно:** когда критично **не ошибаться с положительными**  \n",
        "(например, предсказание болезни — ложная тревога хуже пропуска).\n"
      ],
      "metadata": {
        "id": "mflMgQcfr0Jc"
      }
    },
    {
      "cell_type": "code",
      "source": [
        "print(f\"Precision: {prec:.3f}\")"
      ],
      "metadata": {
        "colab": {
          "base_uri": "https://localhost:8080/"
        },
        "id": "X1a0jBVJsREr",
        "outputId": "27ecf4d5-3ce0-4403-f959-0e1305390a43"
      },
      "execution_count": 103,
      "outputs": [
        {
          "output_type": "stream",
          "name": "stdout",
          "text": [
            "Precision: 0.739\n"
          ]
        }
      ]
    },
    {
      "cell_type": "markdown",
      "source": [
        "\n",
        "---\n",
        "\n",
        "### 3. **Recall** — полнота (чувствительность)  \n",
        "**Формула:**  \n",
        "$$\n",
        "\\text{Recall}=\\frac{TP}{TP+FN}\n",
        "$$\n",
        "\n",
        "**Смысл:** из всех реально выживших, сколько модель нашла.  \n",
        "**Интерпретация:** 0.739 → модель правильно находит ~74 % выживших.  \n",
        "**Ошибка:** около 26 % реальных выживших «потерялись».\n",
        "\n",
        "**Когда важно:** когда нужно **не пропустить положительный случай**  \n",
        "(например, при мед-скрининге или сигнализации аварий).\n",
        "\n",
        "---"
      ],
      "metadata": {
        "id": "rJCes9Err4Jt"
      }
    },
    {
      "cell_type": "code",
      "source": [
        "print(f\"Recall   : {rec:.3f}\")"
      ],
      "metadata": {
        "colab": {
          "base_uri": "https://localhost:8080/"
        },
        "id": "3_5VxjL6sUqh",
        "outputId": "af5371ef-9480-421e-a100-98f7ff073794"
      },
      "execution_count": 104,
      "outputs": [
        {
          "output_type": "stream",
          "name": "stdout",
          "text": [
            "Recall   : 0.739\n"
          ]
        }
      ]
    },
    {
      "cell_type": "markdown",
      "source": [
        "\n",
        "### ⚙️ 4. **F1-score** — баланс между Precision и Recall  \n",
        "**Формула:**  \n",
        "$$\n",
        "F1=2\\cdot\\frac{\\text{Precision}\\cdot \\text{Recall}}{\\text{Precision}+\\text{Recall}}\n",
        "$$\n",
        "\n",
        "**Смысл:** гармоническое среднее точности и полноты.  \n",
        "**Интерпретация:** 0.739 → модель держит неплохой баланс между «не ошибиться» и «ничего не упустить».  \n",
        "**Замечание:** если Precision ≫ Recall — модель слишком осторожна; если наоборот — слишком рискованна.\n",
        "\n",
        "---"
      ],
      "metadata": {
        "id": "I-fHbX4Kr6bG"
      }
    },
    {
      "cell_type": "code",
      "source": [
        "print(f\"F1-score : {f1:.3f}\")"
      ],
      "metadata": {
        "colab": {
          "base_uri": "https://localhost:8080/"
        },
        "id": "uTPXe3_6sWKr",
        "outputId": "71c58852-a9f9-46a6-81e2-a566a13b9d31"
      },
      "execution_count": 105,
      "outputs": [
        {
          "output_type": "stream",
          "name": "stdout",
          "text": [
            "F1-score : 0.739\n"
          ]
        }
      ]
    },
    {
      "cell_type": "markdown",
      "source": [
        "\n",
        "### 5. **ROC AUC** — площадь под ROC-кривой  \n",
        "**Смысл:** показывает, насколько хорошо модель различает классы  \n",
        "при всех возможных порогах вероятности.\n",
        "\n",
        "**Интерпретация:** 0.827 → модель хорошо отделяет выживших от погибших.  \n",
        "(0.5 — случайное угадывание, 0.7–0.8 — нормально, 0.8–0.9 — хорошо, > 0.9 — отлично.)\n",
        "\n",
        "---"
      ],
      "metadata": {
        "id": "HxGNC-rdr8UT"
      }
    },
    {
      "cell_type": "code",
      "source": [
        "print(f\"ROC AUC  : {roc:.3f}\")"
      ],
      "metadata": {
        "colab": {
          "base_uri": "https://localhost:8080/"
        },
        "id": "1KsU8mPtsXfc",
        "outputId": "5473f214-e585-4bc6-9d30-e86571896382"
      },
      "execution_count": 106,
      "outputs": [
        {
          "output_type": "stream",
          "name": "stdout",
          "text": [
            "ROC AUC  : 0.827\n"
          ]
        }
      ]
    },
    {
      "cell_type": "code",
      "source": [
        "# Вероятности положительного класса (T = выжил)\n",
        "y_score = rf_pipeline.predict_proba(X_valid)[:, 1]\n",
        "\n",
        "# Точки ROC-кривой и AUC\n",
        "fpr, tpr, thr = roc_curve(y_valid, y_score)   # FPR=ложноположительная доля, TPR=чувствительность (Recall)\n",
        "roc_auc = auc(fpr, tpr)\n",
        "\n",
        "# Рисуем\n",
        "fig = plt.figure(figsize=(6, 5))\n",
        "plt.plot(fpr, tpr, linewidth=2, label=f'ROC (AUC = {roc_auc:.3f})')\n",
        "plt.plot([0, 1], [0, 1], linestyle='--', linewidth=1, label='Случайный классификатор')\n",
        "\n",
        "plt.xlim(0, 1)\n",
        "plt.ylim(0, 1)\n",
        "plt.xlabel('FPR — ложноположительная доля (ошибочно «T» для N)')\n",
        "plt.ylabel('TPR — чувствительность / Recall (верно «T» из всех T)')\n",
        "plt.title('ROC-кривая — Random Forest')\n",
        "plt.grid(True, linestyle='--', alpha=0.6)\n",
        "plt.legend(loc='lower right')\n",
        "plt.tight_layout()\n",
        "plt.show()\n"
      ],
      "metadata": {
        "colab": {
          "base_uri": "https://localhost:8080/",
          "height": 507
        },
        "id": "kHOjG42eshlC",
        "outputId": "05ef0219-98f0-484d-da83-7e3c6407ce8f"
      },
      "execution_count": 117,
      "outputs": [
        {
          "output_type": "display_data",
          "data": {
            "text/plain": [
              "<Figure size 600x500 with 1 Axes>"
            ],
            "image/png": "[encoded data removed]"
          },
          "metadata": {}
        }
      ]
    },
    {
      "cell_type": "markdown",
      "source": [
        "\n",
        "### Итог по результатам модели\n",
        "\n",
        "| Метрика | Значение | Интерпретация |\n",
        "|----------|-----------|---------------|\n",
        "| Accuracy | **0.799** | Хорошая общая точность (≈ 8 из 10 предсказаний верны) |\n",
        "| Precision | **0.739** | 74 % предсказанных выживших действительно выжили |\n",
        "| Recall | **0.739** | Модель нашла 74 % всех реальных выживших |\n",
        "| F1-score | **0.739** | Баланс между precision и recall, без сильного перекоса |\n",
        "| ROC AUC | **0.827** | Модель хорошо различает выживших и погибших |\n",
        "\n",
        "**Вывод:**  \n",
        "Модель Random Forest показывает стабильное и интерпретируемое качество:  \n",
        "— предсказания точнее случайного в 1.5 – 1.6 раза;  \n",
        "— ошибок обоих типов примерно поровну;  \n",
        "— AUC > 0.8 означает, что модель уверенно различает классы.  "
      ],
      "metadata": {
        "id": "pMcDNWp6r_N-"
      }
    },
    {
      "cell_type": "code",
      "source": [],
      "metadata": {
        "id": "XnRbBWqvuM26"
      },
      "execution_count": null,
      "outputs": []
    }
  ]
}